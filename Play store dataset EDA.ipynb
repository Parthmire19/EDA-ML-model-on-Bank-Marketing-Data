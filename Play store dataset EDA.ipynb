{
 "cells": [
  {
   "cell_type": "code",
   "execution_count": 1,
   "id": "4b7e015e",
   "metadata": {},
   "outputs": [],
   "source": [
    "import numpy as np\n",
    "import pandas as pd\n",
    "import matplotlib.pyplot as plt\n",
    "import seaborn as sns"
   ]
  },
  {
   "cell_type": "code",
   "execution_count": 2,
   "id": "4dfaacbc",
   "metadata": {},
   "outputs": [
    {
     "data": {
      "text/plain": [
       "(10841, 13)"
      ]
     },
     "execution_count": 2,
     "metadata": {},
     "output_type": "execute_result"
    }
   ],
   "source": [
    "df = pd.read_csv(\"playstore.csv\")\n",
    "df.shape"
   ]
  },
  {
   "cell_type": "code",
   "execution_count": 3,
   "id": "2ed08d1f",
   "metadata": {},
   "outputs": [
    {
     "data": {
      "text/plain": [
       "Index(['App', 'Category', 'Rating', 'Reviews', 'Size', 'Installs', 'Type',\n",
       "       'Price', 'Content Rating', 'Genres', 'Last Updated', 'Current Ver',\n",
       "       'Android Ver'],\n",
       "      dtype='object')"
      ]
     },
     "execution_count": 3,
     "metadata": {},
     "output_type": "execute_result"
    }
   ],
   "source": [
    "df.columns"
   ]
  },
  {
   "cell_type": "code",
   "execution_count": 4,
   "id": "6cc99963",
   "metadata": {},
   "outputs": [
    {
     "data": {
      "text/plain": [
       "App                object\n",
       "Category           object\n",
       "Rating            float64\n",
       "Reviews            object\n",
       "Size              float64\n",
       "Installs           object\n",
       "Type               object\n",
       "Price              object\n",
       "Content Rating     object\n",
       "Genres             object\n",
       "Last Updated       object\n",
       "Current Ver        object\n",
       "Android Ver        object\n",
       "dtype: object"
      ]
     },
     "execution_count": 4,
     "metadata": {},
     "output_type": "execute_result"
    }
   ],
   "source": [
    "df.dtypes"
   ]
  },
  {
   "cell_type": "code",
   "execution_count": 5,
   "id": "8a48f0d9",
   "metadata": {},
   "outputs": [
    {
     "data": {
      "text/plain": [
       "<bound method DataFrame.info of                                                      App             Category  \\\n",
       "0         Photo Editor & Candy Camera & Grid & ScrapBook       ART_AND_DESIGN   \n",
       "1                                    Coloring book moana       ART_AND_DESIGN   \n",
       "2      U Launcher Lite – FREE Live Cool Themes, Hide ...       ART_AND_DESIGN   \n",
       "3                                  Sketch - Draw & Paint       ART_AND_DESIGN   \n",
       "4                  Pixel Draw - Number Art Coloring Book       ART_AND_DESIGN   \n",
       "...                                                  ...                  ...   \n",
       "10836                                   Sya9a Maroc - FR               FAMILY   \n",
       "10837                   Fr. Mike Schmitz Audio Teachings               FAMILY   \n",
       "10838                             Parkinson Exercices FR              MEDICAL   \n",
       "10839                      The SCP Foundation DB fr nn5n  BOOKS_AND_REFERENCE   \n",
       "10840      iHoroscope - 2018 Daily Horoscope & Astrology            LIFESTYLE   \n",
       "\n",
       "       Rating Reviews          Size     Installs  Type Price Content Rating  \\\n",
       "0         4.1     159  19000.000000      10,000+  Free     0       Everyone   \n",
       "1         3.9     967  14000.000000     500,000+  Free     0       Everyone   \n",
       "2         4.7   87510   8700.000000   5,000,000+  Free     0       Everyone   \n",
       "3         4.5  215644  25000.000000  50,000,000+  Free     0           Teen   \n",
       "4         4.3     967   2800.000000     100,000+  Free     0       Everyone   \n",
       "...       ...     ...           ...          ...   ...   ...            ...   \n",
       "10836     4.5      38  53000.000000       5,000+  Free     0       Everyone   \n",
       "10837     5.0       4   3600.000000         100+  Free     0       Everyone   \n",
       "10838     NaN       3   9500.000000       1,000+  Free     0       Everyone   \n",
       "10839     4.5     114  21516.529524       1,000+  Free     0     Mature 17+   \n",
       "10840     4.5  398307  19000.000000  10,000,000+  Free     0       Everyone   \n",
       "\n",
       "                          Genres      Last Updated         Current Ver  \\\n",
       "0                   Art & Design   January 7, 2018               1.0.0   \n",
       "1      Art & Design;Pretend Play  January 15, 2018               2.0.0   \n",
       "2                   Art & Design    August 1, 2018               1.2.4   \n",
       "3                   Art & Design      June 8, 2018  Varies with device   \n",
       "4        Art & Design;Creativity     June 20, 2018                 1.1   \n",
       "...                          ...               ...                 ...   \n",
       "10836                  Education     July 25, 2017                1.48   \n",
       "10837                  Education      July 6, 2018                 1.0   \n",
       "10838                    Medical  January 20, 2017                 1.0   \n",
       "10839          Books & Reference  January 19, 2015  Varies with device   \n",
       "10840                  Lifestyle     July 25, 2018  Varies with device   \n",
       "\n",
       "              Android Ver  \n",
       "0            4.0.3 and up  \n",
       "1            4.0.3 and up  \n",
       "2            4.0.3 and up  \n",
       "3              4.2 and up  \n",
       "4              4.4 and up  \n",
       "...                   ...  \n",
       "10836          4.1 and up  \n",
       "10837          4.1 and up  \n",
       "10838          2.2 and up  \n",
       "10839  Varies with device  \n",
       "10840  Varies with device  \n",
       "\n",
       "[10841 rows x 13 columns]>"
      ]
     },
     "execution_count": 5,
     "metadata": {},
     "output_type": "execute_result"
    }
   ],
   "source": [
    "df.info"
   ]
  },
  {
   "cell_type": "code",
   "execution_count": 6,
   "id": "a6988459",
   "metadata": {},
   "outputs": [
    {
     "data": {
      "text/html": [
       "<div>\n",
       "<style scoped>\n",
       "    .dataframe tbody tr th:only-of-type {\n",
       "        vertical-align: middle;\n",
       "    }\n",
       "\n",
       "    .dataframe tbody tr th {\n",
       "        vertical-align: top;\n",
       "    }\n",
       "\n",
       "    .dataframe thead th {\n",
       "        text-align: right;\n",
       "    }\n",
       "</style>\n",
       "<table border=\"1\" class=\"dataframe\">\n",
       "  <thead>\n",
       "    <tr style=\"text-align: right;\">\n",
       "      <th></th>\n",
       "      <th>Rating</th>\n",
       "      <th>Size</th>\n",
       "    </tr>\n",
       "  </thead>\n",
       "  <tbody>\n",
       "    <tr>\n",
       "      <th>count</th>\n",
       "      <td>9367.000000</td>\n",
       "      <td>10841.000000</td>\n",
       "    </tr>\n",
       "    <tr>\n",
       "      <th>mean</th>\n",
       "      <td>4.193338</td>\n",
       "      <td>21516.529524</td>\n",
       "    </tr>\n",
       "    <tr>\n",
       "      <th>std</th>\n",
       "      <td>0.537431</td>\n",
       "      <td>20746.537567</td>\n",
       "    </tr>\n",
       "    <tr>\n",
       "      <th>min</th>\n",
       "      <td>1.000000</td>\n",
       "      <td>8.500000</td>\n",
       "    </tr>\n",
       "    <tr>\n",
       "      <th>25%</th>\n",
       "      <td>4.000000</td>\n",
       "      <td>5900.000000</td>\n",
       "    </tr>\n",
       "    <tr>\n",
       "      <th>50%</th>\n",
       "      <td>4.300000</td>\n",
       "      <td>18000.000000</td>\n",
       "    </tr>\n",
       "    <tr>\n",
       "      <th>75%</th>\n",
       "      <td>4.500000</td>\n",
       "      <td>26000.000000</td>\n",
       "    </tr>\n",
       "    <tr>\n",
       "      <th>max</th>\n",
       "      <td>19.000000</td>\n",
       "      <td>100000.000000</td>\n",
       "    </tr>\n",
       "  </tbody>\n",
       "</table>\n",
       "</div>"
      ],
      "text/plain": [
       "            Rating           Size\n",
       "count  9367.000000   10841.000000\n",
       "mean      4.193338   21516.529524\n",
       "std       0.537431   20746.537567\n",
       "min       1.000000       8.500000\n",
       "25%       4.000000    5900.000000\n",
       "50%       4.300000   18000.000000\n",
       "75%       4.500000   26000.000000\n",
       "max      19.000000  100000.000000"
      ]
     },
     "execution_count": 6,
     "metadata": {},
     "output_type": "execute_result"
    }
   ],
   "source": [
    "df.describe()"
   ]
  },
  {
   "cell_type": "code",
   "execution_count": 7,
   "id": "c425cf5a",
   "metadata": {},
   "outputs": [
    {
     "data": {
      "text/plain": [
       "App               9660\n",
       "Category            34\n",
       "Rating              40\n",
       "Reviews           6002\n",
       "Size               460\n",
       "Installs            22\n",
       "Type                 3\n",
       "Price               93\n",
       "Content Rating       6\n",
       "Genres             120\n",
       "Last Updated      1378\n",
       "Current Ver       2832\n",
       "Android Ver         33\n",
       "dtype: int64"
      ]
     },
     "execution_count": 7,
     "metadata": {},
     "output_type": "execute_result"
    }
   ],
   "source": [
    "df.nunique()"
   ]
  },
  {
   "cell_type": "code",
   "execution_count": 8,
   "id": "9c0c4991",
   "metadata": {
    "scrolled": true
   },
   "outputs": [
    {
     "data": {
      "text/plain": [
       "App                  0\n",
       "Category             0\n",
       "Rating            1474\n",
       "Reviews              0\n",
       "Size                 0\n",
       "Installs             0\n",
       "Type                 1\n",
       "Price                0\n",
       "Content Rating       1\n",
       "Genres               0\n",
       "Last Updated         0\n",
       "Current Ver          8\n",
       "Android Ver          3\n",
       "dtype: int64"
      ]
     },
     "execution_count": 8,
     "metadata": {},
     "output_type": "execute_result"
    }
   ],
   "source": [
    "df.isnull().sum()"
   ]
  },
  {
   "cell_type": "code",
   "execution_count": 9,
   "id": "2d97efd7",
   "metadata": {},
   "outputs": [],
   "source": [
    "#1. Data clean up – Missing value treatment\n",
    "#a. Drop records where rating is missing since rating is our target/study variabl"
   ]
  },
  {
   "cell_type": "code",
   "execution_count": 10,
   "id": "f600462a",
   "metadata": {},
   "outputs": [
    {
     "data": {
      "text/html": [
       "<div>\n",
       "<style scoped>\n",
       "    .dataframe tbody tr th:only-of-type {\n",
       "        vertical-align: middle;\n",
       "    }\n",
       "\n",
       "    .dataframe tbody tr th {\n",
       "        vertical-align: top;\n",
       "    }\n",
       "\n",
       "    .dataframe thead th {\n",
       "        text-align: right;\n",
       "    }\n",
       "</style>\n",
       "<table border=\"1\" class=\"dataframe\">\n",
       "  <thead>\n",
       "    <tr style=\"text-align: right;\">\n",
       "      <th></th>\n",
       "      <th>App</th>\n",
       "      <th>Category</th>\n",
       "      <th>Rating</th>\n",
       "      <th>Reviews</th>\n",
       "      <th>Size</th>\n",
       "      <th>Installs</th>\n",
       "      <th>Type</th>\n",
       "      <th>Price</th>\n",
       "      <th>Content Rating</th>\n",
       "      <th>Genres</th>\n",
       "      <th>Last Updated</th>\n",
       "      <th>Current Ver</th>\n",
       "      <th>Android Ver</th>\n",
       "    </tr>\n",
       "  </thead>\n",
       "  <tbody>\n",
       "    <tr>\n",
       "      <th>23</th>\n",
       "      <td>Mcqueen Coloring pages</td>\n",
       "      <td>ART_AND_DESIGN</td>\n",
       "      <td>NaN</td>\n",
       "      <td>61</td>\n",
       "      <td>7000.0</td>\n",
       "      <td>100,000+</td>\n",
       "      <td>Free</td>\n",
       "      <td>0</td>\n",
       "      <td>Everyone</td>\n",
       "      <td>Art &amp; Design;Action &amp; Adventure</td>\n",
       "      <td>March 7, 2018</td>\n",
       "      <td>1.0.0</td>\n",
       "      <td>4.1 and up</td>\n",
       "    </tr>\n",
       "    <tr>\n",
       "      <th>113</th>\n",
       "      <td>Wrinkles and rejuvenation</td>\n",
       "      <td>BEAUTY</td>\n",
       "      <td>NaN</td>\n",
       "      <td>182</td>\n",
       "      <td>5700.0</td>\n",
       "      <td>100,000+</td>\n",
       "      <td>Free</td>\n",
       "      <td>0</td>\n",
       "      <td>Everyone 10+</td>\n",
       "      <td>Beauty</td>\n",
       "      <td>September 20, 2017</td>\n",
       "      <td>8.0</td>\n",
       "      <td>3.0 and up</td>\n",
       "    </tr>\n",
       "    <tr>\n",
       "      <th>123</th>\n",
       "      <td>Manicure - nail design</td>\n",
       "      <td>BEAUTY</td>\n",
       "      <td>NaN</td>\n",
       "      <td>119</td>\n",
       "      <td>3700.0</td>\n",
       "      <td>50,000+</td>\n",
       "      <td>Free</td>\n",
       "      <td>0</td>\n",
       "      <td>Everyone</td>\n",
       "      <td>Beauty</td>\n",
       "      <td>July 23, 2018</td>\n",
       "      <td>1.3</td>\n",
       "      <td>4.1 and up</td>\n",
       "    </tr>\n",
       "    <tr>\n",
       "      <th>126</th>\n",
       "      <td>Skin Care and Natural Beauty</td>\n",
       "      <td>BEAUTY</td>\n",
       "      <td>NaN</td>\n",
       "      <td>654</td>\n",
       "      <td>7400.0</td>\n",
       "      <td>100,000+</td>\n",
       "      <td>Free</td>\n",
       "      <td>0</td>\n",
       "      <td>Teen</td>\n",
       "      <td>Beauty</td>\n",
       "      <td>July 17, 2018</td>\n",
       "      <td>1.15</td>\n",
       "      <td>4.1 and up</td>\n",
       "    </tr>\n",
       "    <tr>\n",
       "      <th>129</th>\n",
       "      <td>Secrets of beauty, youth and health</td>\n",
       "      <td>BEAUTY</td>\n",
       "      <td>NaN</td>\n",
       "      <td>77</td>\n",
       "      <td>2900.0</td>\n",
       "      <td>10,000+</td>\n",
       "      <td>Free</td>\n",
       "      <td>0</td>\n",
       "      <td>Mature 17+</td>\n",
       "      <td>Beauty</td>\n",
       "      <td>August 8, 2017</td>\n",
       "      <td>2.0</td>\n",
       "      <td>2.3 and up</td>\n",
       "    </tr>\n",
       "    <tr>\n",
       "      <th>...</th>\n",
       "      <td>...</td>\n",
       "      <td>...</td>\n",
       "      <td>...</td>\n",
       "      <td>...</td>\n",
       "      <td>...</td>\n",
       "      <td>...</td>\n",
       "      <td>...</td>\n",
       "      <td>...</td>\n",
       "      <td>...</td>\n",
       "      <td>...</td>\n",
       "      <td>...</td>\n",
       "      <td>...</td>\n",
       "      <td>...</td>\n",
       "    </tr>\n",
       "    <tr>\n",
       "      <th>10824</th>\n",
       "      <td>Cardio-FR</td>\n",
       "      <td>MEDICAL</td>\n",
       "      <td>NaN</td>\n",
       "      <td>67</td>\n",
       "      <td>82000.0</td>\n",
       "      <td>10,000+</td>\n",
       "      <td>Free</td>\n",
       "      <td>0</td>\n",
       "      <td>Everyone</td>\n",
       "      <td>Medical</td>\n",
       "      <td>July 31, 2018</td>\n",
       "      <td>2.2.2</td>\n",
       "      <td>4.4 and up</td>\n",
       "    </tr>\n",
       "    <tr>\n",
       "      <th>10825</th>\n",
       "      <td>Naruto &amp; Boruto FR</td>\n",
       "      <td>SOCIAL</td>\n",
       "      <td>NaN</td>\n",
       "      <td>7</td>\n",
       "      <td>7700.0</td>\n",
       "      <td>100+</td>\n",
       "      <td>Free</td>\n",
       "      <td>0</td>\n",
       "      <td>Teen</td>\n",
       "      <td>Social</td>\n",
       "      <td>February 2, 2018</td>\n",
       "      <td>1.0</td>\n",
       "      <td>4.0 and up</td>\n",
       "    </tr>\n",
       "    <tr>\n",
       "      <th>10831</th>\n",
       "      <td>payermonstationnement.fr</td>\n",
       "      <td>MAPS_AND_NAVIGATION</td>\n",
       "      <td>NaN</td>\n",
       "      <td>38</td>\n",
       "      <td>9800.0</td>\n",
       "      <td>5,000+</td>\n",
       "      <td>Free</td>\n",
       "      <td>0</td>\n",
       "      <td>Everyone</td>\n",
       "      <td>Maps &amp; Navigation</td>\n",
       "      <td>June 13, 2018</td>\n",
       "      <td>2.0.148.0</td>\n",
       "      <td>4.0 and up</td>\n",
       "    </tr>\n",
       "    <tr>\n",
       "      <th>10835</th>\n",
       "      <td>FR Forms</td>\n",
       "      <td>BUSINESS</td>\n",
       "      <td>NaN</td>\n",
       "      <td>0</td>\n",
       "      <td>9600.0</td>\n",
       "      <td>10+</td>\n",
       "      <td>Free</td>\n",
       "      <td>0</td>\n",
       "      <td>Everyone</td>\n",
       "      <td>Business</td>\n",
       "      <td>September 29, 2016</td>\n",
       "      <td>1.1.5</td>\n",
       "      <td>4.0 and up</td>\n",
       "    </tr>\n",
       "    <tr>\n",
       "      <th>10838</th>\n",
       "      <td>Parkinson Exercices FR</td>\n",
       "      <td>MEDICAL</td>\n",
       "      <td>NaN</td>\n",
       "      <td>3</td>\n",
       "      <td>9500.0</td>\n",
       "      <td>1,000+</td>\n",
       "      <td>Free</td>\n",
       "      <td>0</td>\n",
       "      <td>Everyone</td>\n",
       "      <td>Medical</td>\n",
       "      <td>January 20, 2017</td>\n",
       "      <td>1.0</td>\n",
       "      <td>2.2 and up</td>\n",
       "    </tr>\n",
       "  </tbody>\n",
       "</table>\n",
       "<p>1474 rows × 13 columns</p>\n",
       "</div>"
      ],
      "text/plain": [
       "                                       App             Category  Rating  \\\n",
       "23                  Mcqueen Coloring pages       ART_AND_DESIGN     NaN   \n",
       "113              Wrinkles and rejuvenation               BEAUTY     NaN   \n",
       "123                 Manicure - nail design               BEAUTY     NaN   \n",
       "126           Skin Care and Natural Beauty               BEAUTY     NaN   \n",
       "129    Secrets of beauty, youth and health               BEAUTY     NaN   \n",
       "...                                    ...                  ...     ...   \n",
       "10824                            Cardio-FR              MEDICAL     NaN   \n",
       "10825                   Naruto & Boruto FR               SOCIAL     NaN   \n",
       "10831             payermonstationnement.fr  MAPS_AND_NAVIGATION     NaN   \n",
       "10835                             FR Forms             BUSINESS     NaN   \n",
       "10838               Parkinson Exercices FR              MEDICAL     NaN   \n",
       "\n",
       "      Reviews     Size  Installs  Type Price Content Rating  \\\n",
       "23         61   7000.0  100,000+  Free     0       Everyone   \n",
       "113       182   5700.0  100,000+  Free     0   Everyone 10+   \n",
       "123       119   3700.0   50,000+  Free     0       Everyone   \n",
       "126       654   7400.0  100,000+  Free     0           Teen   \n",
       "129        77   2900.0   10,000+  Free     0     Mature 17+   \n",
       "...       ...      ...       ...   ...   ...            ...   \n",
       "10824      67  82000.0   10,000+  Free     0       Everyone   \n",
       "10825       7   7700.0      100+  Free     0           Teen   \n",
       "10831      38   9800.0    5,000+  Free     0       Everyone   \n",
       "10835       0   9600.0       10+  Free     0       Everyone   \n",
       "10838       3   9500.0    1,000+  Free     0       Everyone   \n",
       "\n",
       "                                Genres        Last Updated Current Ver  \\\n",
       "23     Art & Design;Action & Adventure       March 7, 2018       1.0.0   \n",
       "113                             Beauty  September 20, 2017         8.0   \n",
       "123                             Beauty       July 23, 2018         1.3   \n",
       "126                             Beauty       July 17, 2018        1.15   \n",
       "129                             Beauty      August 8, 2017         2.0   \n",
       "...                                ...                 ...         ...   \n",
       "10824                          Medical       July 31, 2018       2.2.2   \n",
       "10825                           Social    February 2, 2018         1.0   \n",
       "10831                Maps & Navigation       June 13, 2018   2.0.148.0   \n",
       "10835                         Business  September 29, 2016       1.1.5   \n",
       "10838                          Medical    January 20, 2017         1.0   \n",
       "\n",
       "      Android Ver  \n",
       "23     4.1 and up  \n",
       "113    3.0 and up  \n",
       "123    4.1 and up  \n",
       "126    4.1 and up  \n",
       "129    2.3 and up  \n",
       "...           ...  \n",
       "10824  4.4 and up  \n",
       "10825  4.0 and up  \n",
       "10831  4.0 and up  \n",
       "10835  4.0 and up  \n",
       "10838  2.2 and up  \n",
       "\n",
       "[1474 rows x 13 columns]"
      ]
     },
     "execution_count": 10,
     "metadata": {},
     "output_type": "execute_result"
    }
   ],
   "source": [
    "df[df[\"Rating\"].isna()]"
   ]
  },
  {
   "cell_type": "code",
   "execution_count": 11,
   "id": "600621e0",
   "metadata": {},
   "outputs": [],
   "source": [
    "df1=df.dropna(subset = [\"Rating\"] , inplace=True)"
   ]
  },
  {
   "cell_type": "code",
   "execution_count": 12,
   "id": "fa8c0cb8",
   "metadata": {},
   "outputs": [
    {
     "name": "stdout",
     "output_type": "stream",
     "text": [
      "0\n"
     ]
    }
   ],
   "source": [
    "print(df['Rating'].isnull().sum())"
   ]
  },
  {
   "cell_type": "code",
   "execution_count": 13,
   "id": "bc6fa198",
   "metadata": {},
   "outputs": [],
   "source": [
    "#b. Check the null values for the Android Ver column. "
   ]
  },
  {
   "cell_type": "code",
   "execution_count": 14,
   "id": "1260d306",
   "metadata": {},
   "outputs": [
    {
     "data": {
      "text/plain": [
       "3"
      ]
     },
     "execution_count": 14,
     "metadata": {},
     "output_type": "execute_result"
    }
   ],
   "source": [
    "df['Android Ver'].isnull().sum()"
   ]
  },
  {
   "cell_type": "code",
   "execution_count": 15,
   "id": "2df420c1",
   "metadata": {},
   "outputs": [],
   "source": [
    "#i. Are all 3 records having the same problem?"
   ]
  },
  {
   "cell_type": "code",
   "execution_count": 16,
   "id": "f637100d",
   "metadata": {},
   "outputs": [
    {
     "data": {
      "text/html": [
       "<div>\n",
       "<style scoped>\n",
       "    .dataframe tbody tr th:only-of-type {\n",
       "        vertical-align: middle;\n",
       "    }\n",
       "\n",
       "    .dataframe tbody tr th {\n",
       "        vertical-align: top;\n",
       "    }\n",
       "\n",
       "    .dataframe thead th {\n",
       "        text-align: right;\n",
       "    }\n",
       "</style>\n",
       "<table border=\"1\" class=\"dataframe\">\n",
       "  <thead>\n",
       "    <tr style=\"text-align: right;\">\n",
       "      <th></th>\n",
       "      <th>App</th>\n",
       "      <th>Category</th>\n",
       "      <th>Rating</th>\n",
       "      <th>Reviews</th>\n",
       "      <th>Size</th>\n",
       "      <th>Installs</th>\n",
       "      <th>Type</th>\n",
       "      <th>Price</th>\n",
       "      <th>Content Rating</th>\n",
       "      <th>Genres</th>\n",
       "      <th>Last Updated</th>\n",
       "      <th>Current Ver</th>\n",
       "      <th>Android Ver</th>\n",
       "    </tr>\n",
       "  </thead>\n",
       "  <tbody>\n",
       "    <tr>\n",
       "      <th>4453</th>\n",
       "      <td>[substratum] Vacuum: P</td>\n",
       "      <td>PERSONALIZATION</td>\n",
       "      <td>4.4</td>\n",
       "      <td>230</td>\n",
       "      <td>11000.000000</td>\n",
       "      <td>1,000+</td>\n",
       "      <td>Paid</td>\n",
       "      <td>$1.49</td>\n",
       "      <td>Everyone</td>\n",
       "      <td>Personalization</td>\n",
       "      <td>July 20, 2018</td>\n",
       "      <td>4.4</td>\n",
       "      <td>NaN</td>\n",
       "    </tr>\n",
       "    <tr>\n",
       "      <th>4490</th>\n",
       "      <td>Pi Dark [substratum]</td>\n",
       "      <td>PERSONALIZATION</td>\n",
       "      <td>4.5</td>\n",
       "      <td>189</td>\n",
       "      <td>2100.000000</td>\n",
       "      <td>10,000+</td>\n",
       "      <td>Free</td>\n",
       "      <td>0</td>\n",
       "      <td>Everyone</td>\n",
       "      <td>Personalization</td>\n",
       "      <td>March 27, 2018</td>\n",
       "      <td>1.1</td>\n",
       "      <td>NaN</td>\n",
       "    </tr>\n",
       "    <tr>\n",
       "      <th>10472</th>\n",
       "      <td>Life Made WI-Fi Touchscreen Photo Frame</td>\n",
       "      <td>1.9</td>\n",
       "      <td>19.0</td>\n",
       "      <td>3.0M</td>\n",
       "      <td>21516.529524</td>\n",
       "      <td>Free</td>\n",
       "      <td>0</td>\n",
       "      <td>Everyone</td>\n",
       "      <td>NaN</td>\n",
       "      <td>February 11, 2018</td>\n",
       "      <td>1.0.19</td>\n",
       "      <td>4.0 and up</td>\n",
       "      <td>NaN</td>\n",
       "    </tr>\n",
       "  </tbody>\n",
       "</table>\n",
       "</div>"
      ],
      "text/plain": [
       "                                           App         Category  Rating  \\\n",
       "4453                    [substratum] Vacuum: P  PERSONALIZATION     4.4   \n",
       "4490                      Pi Dark [substratum]  PERSONALIZATION     4.5   \n",
       "10472  Life Made WI-Fi Touchscreen Photo Frame              1.9    19.0   \n",
       "\n",
       "      Reviews          Size Installs  Type     Price Content Rating  \\\n",
       "4453      230  11000.000000   1,000+  Paid     $1.49       Everyone   \n",
       "4490      189   2100.000000  10,000+  Free         0       Everyone   \n",
       "10472    3.0M  21516.529524     Free     0  Everyone            NaN   \n",
       "\n",
       "                  Genres    Last Updated Current Ver Android Ver  \n",
       "4453     Personalization   July 20, 2018         4.4         NaN  \n",
       "4490     Personalization  March 27, 2018         1.1         NaN  \n",
       "10472  February 11, 2018          1.0.19  4.0 and up         NaN  "
      ]
     },
     "execution_count": 16,
     "metadata": {},
     "output_type": "execute_result"
    }
   ],
   "source": [
    "df.loc[df['Android Ver'].isnull()]"
   ]
  },
  {
   "cell_type": "code",
   "execution_count": 17,
   "id": "c25dd5f9",
   "metadata": {},
   "outputs": [],
   "source": [
    "#All three records have null values,so they have same problem..."
   ]
  },
  {
   "cell_type": "code",
   "execution_count": 18,
   "id": "d40d8523",
   "metadata": {},
   "outputs": [],
   "source": [
    "#ii). Drop the 3rd record i.e. record for “Life Made WIFI …”"
   ]
  },
  {
   "cell_type": "code",
   "execution_count": 19,
   "id": "c6cded21",
   "metadata": {},
   "outputs": [
    {
     "data": {
      "text/html": [
       "<div>\n",
       "<style scoped>\n",
       "    .dataframe tbody tr th:only-of-type {\n",
       "        vertical-align: middle;\n",
       "    }\n",
       "\n",
       "    .dataframe tbody tr th {\n",
       "        vertical-align: top;\n",
       "    }\n",
       "\n",
       "    .dataframe thead th {\n",
       "        text-align: right;\n",
       "    }\n",
       "</style>\n",
       "<table border=\"1\" class=\"dataframe\">\n",
       "  <thead>\n",
       "    <tr style=\"text-align: right;\">\n",
       "      <th></th>\n",
       "      <th>App</th>\n",
       "      <th>Category</th>\n",
       "      <th>Rating</th>\n",
       "      <th>Reviews</th>\n",
       "      <th>Size</th>\n",
       "      <th>Installs</th>\n",
       "      <th>Type</th>\n",
       "      <th>Price</th>\n",
       "      <th>Content Rating</th>\n",
       "      <th>Genres</th>\n",
       "      <th>Last Updated</th>\n",
       "      <th>Current Ver</th>\n",
       "      <th>Android Ver</th>\n",
       "    </tr>\n",
       "  </thead>\n",
       "  <tbody>\n",
       "    <tr>\n",
       "      <th>4453</th>\n",
       "      <td>[substratum] Vacuum: P</td>\n",
       "      <td>PERSONALIZATION</td>\n",
       "      <td>4.4</td>\n",
       "      <td>230</td>\n",
       "      <td>11000.0</td>\n",
       "      <td>1,000+</td>\n",
       "      <td>Paid</td>\n",
       "      <td>$1.49</td>\n",
       "      <td>Everyone</td>\n",
       "      <td>Personalization</td>\n",
       "      <td>July 20, 2018</td>\n",
       "      <td>4.4</td>\n",
       "      <td>NaN</td>\n",
       "    </tr>\n",
       "    <tr>\n",
       "      <th>4490</th>\n",
       "      <td>Pi Dark [substratum]</td>\n",
       "      <td>PERSONALIZATION</td>\n",
       "      <td>4.5</td>\n",
       "      <td>189</td>\n",
       "      <td>2100.0</td>\n",
       "      <td>10,000+</td>\n",
       "      <td>Free</td>\n",
       "      <td>0</td>\n",
       "      <td>Everyone</td>\n",
       "      <td>Personalization</td>\n",
       "      <td>March 27, 2018</td>\n",
       "      <td>1.1</td>\n",
       "      <td>NaN</td>\n",
       "    </tr>\n",
       "  </tbody>\n",
       "</table>\n",
       "</div>"
      ],
      "text/plain": [
       "                         App         Category  Rating Reviews     Size  \\\n",
       "4453  [substratum] Vacuum: P  PERSONALIZATION     4.4     230  11000.0   \n",
       "4490    Pi Dark [substratum]  PERSONALIZATION     4.5     189   2100.0   \n",
       "\n",
       "     Installs  Type  Price Content Rating           Genres    Last Updated  \\\n",
       "4453   1,000+  Paid  $1.49       Everyone  Personalization   July 20, 2018   \n",
       "4490  10,000+  Free      0       Everyone  Personalization  March 27, 2018   \n",
       "\n",
       "     Current Ver Android Ver  \n",
       "4453         4.4         NaN  \n",
       "4490         1.1         NaN  "
      ]
     },
     "execution_count": 19,
     "metadata": {},
     "output_type": "execute_result"
    }
   ],
   "source": [
    "df.drop(axis = 0 , index = 10472 , inplace = True)\n",
    "df[df['Android Ver'].isnull()]"
   ]
  },
  {
   "cell_type": "code",
   "execution_count": 20,
   "id": "3efa8311",
   "metadata": {},
   "outputs": [],
   "source": [
    "#iii). Replace remaining missing values with the mode"
   ]
  },
  {
   "cell_type": "code",
   "execution_count": 21,
   "id": "c625c6c9",
   "metadata": {},
   "outputs": [
    {
     "data": {
      "text/plain": [
       "'4.1 and up'"
      ]
     },
     "execution_count": 21,
     "metadata": {},
     "output_type": "execute_result"
    }
   ],
   "source": [
    "df['Android Ver'].mode()[0]"
   ]
  },
  {
   "cell_type": "code",
   "execution_count": 22,
   "id": "5020a135",
   "metadata": {},
   "outputs": [],
   "source": [
    "df['Android Ver'].fillna(df['Android Ver'].mode()[0], inplace = True)"
   ]
  },
  {
   "cell_type": "code",
   "execution_count": 23,
   "id": "c04e3c16",
   "metadata": {},
   "outputs": [
    {
     "data": {
      "text/html": [
       "<div>\n",
       "<style scoped>\n",
       "    .dataframe tbody tr th:only-of-type {\n",
       "        vertical-align: middle;\n",
       "    }\n",
       "\n",
       "    .dataframe tbody tr th {\n",
       "        vertical-align: top;\n",
       "    }\n",
       "\n",
       "    .dataframe thead th {\n",
       "        text-align: right;\n",
       "    }\n",
       "</style>\n",
       "<table border=\"1\" class=\"dataframe\">\n",
       "  <thead>\n",
       "    <tr style=\"text-align: right;\">\n",
       "      <th></th>\n",
       "      <th>App</th>\n",
       "      <th>Category</th>\n",
       "      <th>Rating</th>\n",
       "      <th>Reviews</th>\n",
       "      <th>Size</th>\n",
       "      <th>Installs</th>\n",
       "      <th>Type</th>\n",
       "      <th>Price</th>\n",
       "      <th>Content Rating</th>\n",
       "      <th>Genres</th>\n",
       "      <th>Last Updated</th>\n",
       "      <th>Current Ver</th>\n",
       "      <th>Android Ver</th>\n",
       "    </tr>\n",
       "  </thead>\n",
       "  <tbody>\n",
       "    <tr>\n",
       "      <th>4453</th>\n",
       "      <td>[substratum] Vacuum: P</td>\n",
       "      <td>PERSONALIZATION</td>\n",
       "      <td>4.4</td>\n",
       "      <td>230</td>\n",
       "      <td>11000.0</td>\n",
       "      <td>1,000+</td>\n",
       "      <td>Paid</td>\n",
       "      <td>$1.49</td>\n",
       "      <td>Everyone</td>\n",
       "      <td>Personalization</td>\n",
       "      <td>July 20, 2018</td>\n",
       "      <td>4.4</td>\n",
       "      <td>4.1 and up</td>\n",
       "    </tr>\n",
       "    <tr>\n",
       "      <th>4490</th>\n",
       "      <td>Pi Dark [substratum]</td>\n",
       "      <td>PERSONALIZATION</td>\n",
       "      <td>4.5</td>\n",
       "      <td>189</td>\n",
       "      <td>2100.0</td>\n",
       "      <td>10,000+</td>\n",
       "      <td>Free</td>\n",
       "      <td>0</td>\n",
       "      <td>Everyone</td>\n",
       "      <td>Personalization</td>\n",
       "      <td>March 27, 2018</td>\n",
       "      <td>1.1</td>\n",
       "      <td>4.1 and up</td>\n",
       "    </tr>\n",
       "  </tbody>\n",
       "</table>\n",
       "</div>"
      ],
      "text/plain": [
       "                         App         Category  Rating Reviews     Size  \\\n",
       "4453  [substratum] Vacuum: P  PERSONALIZATION     4.4     230  11000.0   \n",
       "4490    Pi Dark [substratum]  PERSONALIZATION     4.5     189   2100.0   \n",
       "\n",
       "     Installs  Type  Price Content Rating           Genres    Last Updated  \\\n",
       "4453   1,000+  Paid  $1.49       Everyone  Personalization   July 20, 2018   \n",
       "4490  10,000+  Free      0       Everyone  Personalization  March 27, 2018   \n",
       "\n",
       "     Current Ver Android Ver  \n",
       "4453         4.4  4.1 and up  \n",
       "4490         1.1  4.1 and up  "
      ]
     },
     "execution_count": 23,
     "metadata": {},
     "output_type": "execute_result"
    }
   ],
   "source": [
    "df.loc[[4453,4490], :]"
   ]
  },
  {
   "cell_type": "code",
   "execution_count": 24,
   "id": "11af8d65",
   "metadata": {},
   "outputs": [
    {
     "data": {
      "text/html": [
       "<div>\n",
       "<style scoped>\n",
       "    .dataframe tbody tr th:only-of-type {\n",
       "        vertical-align: middle;\n",
       "    }\n",
       "\n",
       "    .dataframe tbody tr th {\n",
       "        vertical-align: top;\n",
       "    }\n",
       "\n",
       "    .dataframe thead th {\n",
       "        text-align: right;\n",
       "    }\n",
       "</style>\n",
       "<table border=\"1\" class=\"dataframe\">\n",
       "  <thead>\n",
       "    <tr style=\"text-align: right;\">\n",
       "      <th></th>\n",
       "      <th>App</th>\n",
       "      <th>Category</th>\n",
       "      <th>Rating</th>\n",
       "      <th>Reviews</th>\n",
       "      <th>Size</th>\n",
       "      <th>Installs</th>\n",
       "      <th>Type</th>\n",
       "      <th>Price</th>\n",
       "      <th>Content Rating</th>\n",
       "      <th>Genres</th>\n",
       "      <th>Last Updated</th>\n",
       "      <th>Current Ver</th>\n",
       "      <th>Android Ver</th>\n",
       "    </tr>\n",
       "  </thead>\n",
       "  <tbody>\n",
       "  </tbody>\n",
       "</table>\n",
       "</div>"
      ],
      "text/plain": [
       "Empty DataFrame\n",
       "Columns: [App, Category, Rating, Reviews, Size, Installs, Type, Price, Content Rating, Genres, Last Updated, Current Ver, Android Ver]\n",
       "Index: []"
      ]
     },
     "execution_count": 24,
     "metadata": {},
     "output_type": "execute_result"
    }
   ],
   "source": [
    "df[df['Android Ver'].isna()]"
   ]
  },
  {
   "cell_type": "code",
   "execution_count": 25,
   "id": "1c0450b6",
   "metadata": {},
   "outputs": [],
   "source": [
    "####---- c. Current ver – replace with most common value ----#####"
   ]
  },
  {
   "cell_type": "code",
   "execution_count": 26,
   "id": "ce4dc002",
   "metadata": {},
   "outputs": [
    {
     "data": {
      "text/plain": [
       "4"
      ]
     },
     "execution_count": 26,
     "metadata": {},
     "output_type": "execute_result"
    }
   ],
   "source": [
    "df['Current Ver'].isnull().sum()"
   ]
  },
  {
   "cell_type": "code",
   "execution_count": 27,
   "id": "3524f1a3",
   "metadata": {},
   "outputs": [
    {
     "data": {
      "text/html": [
       "<div>\n",
       "<style scoped>\n",
       "    .dataframe tbody tr th:only-of-type {\n",
       "        vertical-align: middle;\n",
       "    }\n",
       "\n",
       "    .dataframe tbody tr th {\n",
       "        vertical-align: top;\n",
       "    }\n",
       "\n",
       "    .dataframe thead th {\n",
       "        text-align: right;\n",
       "    }\n",
       "</style>\n",
       "<table border=\"1\" class=\"dataframe\">\n",
       "  <thead>\n",
       "    <tr style=\"text-align: right;\">\n",
       "      <th></th>\n",
       "      <th>App</th>\n",
       "      <th>Category</th>\n",
       "      <th>Rating</th>\n",
       "      <th>Reviews</th>\n",
       "      <th>Size</th>\n",
       "      <th>Installs</th>\n",
       "      <th>Type</th>\n",
       "      <th>Price</th>\n",
       "      <th>Content Rating</th>\n",
       "      <th>Genres</th>\n",
       "      <th>Last Updated</th>\n",
       "      <th>Current Ver</th>\n",
       "      <th>Android Ver</th>\n",
       "    </tr>\n",
       "  </thead>\n",
       "  <tbody>\n",
       "    <tr>\n",
       "      <th>15</th>\n",
       "      <td>Learn To Draw Kawaii Characters</td>\n",
       "      <td>ART_AND_DESIGN</td>\n",
       "      <td>3.2</td>\n",
       "      <td>55</td>\n",
       "      <td>2700.0</td>\n",
       "      <td>5,000+</td>\n",
       "      <td>Free</td>\n",
       "      <td>0</td>\n",
       "      <td>Everyone</td>\n",
       "      <td>Art &amp; Design</td>\n",
       "      <td>June 6, 2018</td>\n",
       "      <td>NaN</td>\n",
       "      <td>4.2 and up</td>\n",
       "    </tr>\n",
       "    <tr>\n",
       "      <th>1553</th>\n",
       "      <td>Market Update Helper</td>\n",
       "      <td>LIBRARIES_AND_DEMO</td>\n",
       "      <td>4.1</td>\n",
       "      <td>20145</td>\n",
       "      <td>11.0</td>\n",
       "      <td>1,000,000+</td>\n",
       "      <td>Free</td>\n",
       "      <td>0</td>\n",
       "      <td>Everyone</td>\n",
       "      <td>Libraries &amp; Demo</td>\n",
       "      <td>February 12, 2013</td>\n",
       "      <td>NaN</td>\n",
       "      <td>1.5 and up</td>\n",
       "    </tr>\n",
       "    <tr>\n",
       "      <th>6322</th>\n",
       "      <td>Virtual DJ Sound Mixer</td>\n",
       "      <td>TOOLS</td>\n",
       "      <td>4.2</td>\n",
       "      <td>4010</td>\n",
       "      <td>8700.0</td>\n",
       "      <td>500,000+</td>\n",
       "      <td>Free</td>\n",
       "      <td>0</td>\n",
       "      <td>Everyone</td>\n",
       "      <td>Tools</td>\n",
       "      <td>May 10, 2017</td>\n",
       "      <td>NaN</td>\n",
       "      <td>4.0 and up</td>\n",
       "    </tr>\n",
       "    <tr>\n",
       "      <th>7333</th>\n",
       "      <td>Dots puzzle</td>\n",
       "      <td>FAMILY</td>\n",
       "      <td>4.0</td>\n",
       "      <td>179</td>\n",
       "      <td>14000.0</td>\n",
       "      <td>50,000+</td>\n",
       "      <td>Paid</td>\n",
       "      <td>$0.99</td>\n",
       "      <td>Everyone</td>\n",
       "      <td>Puzzle</td>\n",
       "      <td>April 18, 2018</td>\n",
       "      <td>NaN</td>\n",
       "      <td>4.0 and up</td>\n",
       "    </tr>\n",
       "  </tbody>\n",
       "</table>\n",
       "</div>"
      ],
      "text/plain": [
       "                                  App            Category  Rating Reviews  \\\n",
       "15    Learn To Draw Kawaii Characters      ART_AND_DESIGN     3.2      55   \n",
       "1553             Market Update Helper  LIBRARIES_AND_DEMO     4.1   20145   \n",
       "6322           Virtual DJ Sound Mixer               TOOLS     4.2    4010   \n",
       "7333                      Dots puzzle              FAMILY     4.0     179   \n",
       "\n",
       "         Size    Installs  Type  Price Content Rating            Genres  \\\n",
       "15     2700.0      5,000+  Free      0       Everyone      Art & Design   \n",
       "1553     11.0  1,000,000+  Free      0       Everyone  Libraries & Demo   \n",
       "6322   8700.0    500,000+  Free      0       Everyone             Tools   \n",
       "7333  14000.0     50,000+  Paid  $0.99       Everyone            Puzzle   \n",
       "\n",
       "           Last Updated Current Ver Android Ver  \n",
       "15         June 6, 2018         NaN  4.2 and up  \n",
       "1553  February 12, 2013         NaN  1.5 and up  \n",
       "6322       May 10, 2017         NaN  4.0 and up  \n",
       "7333     April 18, 2018         NaN  4.0 and up  "
      ]
     },
     "execution_count": 27,
     "metadata": {},
     "output_type": "execute_result"
    }
   ],
   "source": [
    "df[df['Current Ver'].isnull()]"
   ]
  },
  {
   "cell_type": "code",
   "execution_count": 28,
   "id": "c454f326",
   "metadata": {},
   "outputs": [
    {
     "data": {
      "text/plain": [
       "'Varies with device'"
      ]
     },
     "execution_count": 28,
     "metadata": {},
     "output_type": "execute_result"
    }
   ],
   "source": [
    "df['Current Ver'].mode()[0]"
   ]
  },
  {
   "cell_type": "code",
   "execution_count": 29,
   "id": "eb2d975f",
   "metadata": {},
   "outputs": [],
   "source": [
    "df['Current Ver'].fillna(df['Current Ver'].mode() [0], inplace = True)"
   ]
  },
  {
   "cell_type": "code",
   "execution_count": 30,
   "id": "3599d5fb",
   "metadata": {},
   "outputs": [
    {
     "data": {
      "text/html": [
       "<div>\n",
       "<style scoped>\n",
       "    .dataframe tbody tr th:only-of-type {\n",
       "        vertical-align: middle;\n",
       "    }\n",
       "\n",
       "    .dataframe tbody tr th {\n",
       "        vertical-align: top;\n",
       "    }\n",
       "\n",
       "    .dataframe thead th {\n",
       "        text-align: right;\n",
       "    }\n",
       "</style>\n",
       "<table border=\"1\" class=\"dataframe\">\n",
       "  <thead>\n",
       "    <tr style=\"text-align: right;\">\n",
       "      <th></th>\n",
       "      <th>App</th>\n",
       "      <th>Category</th>\n",
       "      <th>Rating</th>\n",
       "      <th>Reviews</th>\n",
       "      <th>Size</th>\n",
       "      <th>Installs</th>\n",
       "      <th>Type</th>\n",
       "      <th>Price</th>\n",
       "      <th>Content Rating</th>\n",
       "      <th>Genres</th>\n",
       "      <th>Last Updated</th>\n",
       "      <th>Current Ver</th>\n",
       "      <th>Android Ver</th>\n",
       "    </tr>\n",
       "  </thead>\n",
       "  <tbody>\n",
       "    <tr>\n",
       "      <th>15</th>\n",
       "      <td>Learn To Draw Kawaii Characters</td>\n",
       "      <td>ART_AND_DESIGN</td>\n",
       "      <td>3.2</td>\n",
       "      <td>55</td>\n",
       "      <td>2700.0</td>\n",
       "      <td>5,000+</td>\n",
       "      <td>Free</td>\n",
       "      <td>0</td>\n",
       "      <td>Everyone</td>\n",
       "      <td>Art &amp; Design</td>\n",
       "      <td>June 6, 2018</td>\n",
       "      <td>Varies with device</td>\n",
       "      <td>4.2 and up</td>\n",
       "    </tr>\n",
       "    <tr>\n",
       "      <th>1553</th>\n",
       "      <td>Market Update Helper</td>\n",
       "      <td>LIBRARIES_AND_DEMO</td>\n",
       "      <td>4.1</td>\n",
       "      <td>20145</td>\n",
       "      <td>11.0</td>\n",
       "      <td>1,000,000+</td>\n",
       "      <td>Free</td>\n",
       "      <td>0</td>\n",
       "      <td>Everyone</td>\n",
       "      <td>Libraries &amp; Demo</td>\n",
       "      <td>February 12, 2013</td>\n",
       "      <td>Varies with device</td>\n",
       "      <td>1.5 and up</td>\n",
       "    </tr>\n",
       "    <tr>\n",
       "      <th>6322</th>\n",
       "      <td>Virtual DJ Sound Mixer</td>\n",
       "      <td>TOOLS</td>\n",
       "      <td>4.2</td>\n",
       "      <td>4010</td>\n",
       "      <td>8700.0</td>\n",
       "      <td>500,000+</td>\n",
       "      <td>Free</td>\n",
       "      <td>0</td>\n",
       "      <td>Everyone</td>\n",
       "      <td>Tools</td>\n",
       "      <td>May 10, 2017</td>\n",
       "      <td>Varies with device</td>\n",
       "      <td>4.0 and up</td>\n",
       "    </tr>\n",
       "    <tr>\n",
       "      <th>7333</th>\n",
       "      <td>Dots puzzle</td>\n",
       "      <td>FAMILY</td>\n",
       "      <td>4.0</td>\n",
       "      <td>179</td>\n",
       "      <td>14000.0</td>\n",
       "      <td>50,000+</td>\n",
       "      <td>Paid</td>\n",
       "      <td>$0.99</td>\n",
       "      <td>Everyone</td>\n",
       "      <td>Puzzle</td>\n",
       "      <td>April 18, 2018</td>\n",
       "      <td>Varies with device</td>\n",
       "      <td>4.0 and up</td>\n",
       "    </tr>\n",
       "  </tbody>\n",
       "</table>\n",
       "</div>"
      ],
      "text/plain": [
       "                                  App            Category  Rating Reviews  \\\n",
       "15    Learn To Draw Kawaii Characters      ART_AND_DESIGN     3.2      55   \n",
       "1553             Market Update Helper  LIBRARIES_AND_DEMO     4.1   20145   \n",
       "6322           Virtual DJ Sound Mixer               TOOLS     4.2    4010   \n",
       "7333                      Dots puzzle              FAMILY     4.0     179   \n",
       "\n",
       "         Size    Installs  Type  Price Content Rating            Genres  \\\n",
       "15     2700.0      5,000+  Free      0       Everyone      Art & Design   \n",
       "1553     11.0  1,000,000+  Free      0       Everyone  Libraries & Demo   \n",
       "6322   8700.0    500,000+  Free      0       Everyone             Tools   \n",
       "7333  14000.0     50,000+  Paid  $0.99       Everyone            Puzzle   \n",
       "\n",
       "           Last Updated         Current Ver Android Ver  \n",
       "15         June 6, 2018  Varies with device  4.2 and up  \n",
       "1553  February 12, 2013  Varies with device  1.5 and up  \n",
       "6322       May 10, 2017  Varies with device  4.0 and up  \n",
       "7333     April 18, 2018  Varies with device  4.0 and up  "
      ]
     },
     "execution_count": 30,
     "metadata": {},
     "output_type": "execute_result"
    }
   ],
   "source": [
    "df.loc[[15,1553,6322,7333], :]"
   ]
  },
  {
   "cell_type": "code",
   "execution_count": 31,
   "id": "543bb640",
   "metadata": {},
   "outputs": [],
   "source": [
    "#####---- 2. Data clean up – correcting the data types ----#####\n",
    "#a. Which all variables need to be brought to numeric types\n"
   ]
  },
  {
   "cell_type": "code",
   "execution_count": 32,
   "id": "4e1090c7",
   "metadata": {},
   "outputs": [],
   "source": [
    "df['Reviews']=df['Reviews'].astype(int)\n",
    "df['Size']=df['Size'].astype(int)"
   ]
  },
  {
   "cell_type": "code",
   "execution_count": 33,
   "id": "ba09c408",
   "metadata": {},
   "outputs": [],
   "source": [
    "#b. Price variable – remove $ sign and convert to float\n"
   ]
  },
  {
   "cell_type": "code",
   "execution_count": 34,
   "id": "4b0ec174",
   "metadata": {},
   "outputs": [
    {
     "data": {
      "text/plain": [
       "0"
      ]
     },
     "execution_count": 34,
     "metadata": {},
     "output_type": "execute_result"
    }
   ],
   "source": [
    "df['Price'].isnull().sum()"
   ]
  },
  {
   "cell_type": "code",
   "execution_count": 35,
   "id": "5d11d88f",
   "metadata": {},
   "outputs": [
    {
     "name": "stdout",
     "output_type": "stream",
     "text": [
      "<class 'pandas.core.frame.DataFrame'>\n",
      "Int64Index: 9366 entries, 0 to 10840\n",
      "Data columns (total 13 columns):\n",
      " #   Column          Non-Null Count  Dtype  \n",
      "---  ------          --------------  -----  \n",
      " 0   App             9366 non-null   object \n",
      " 1   Category        9366 non-null   object \n",
      " 2   Rating          9366 non-null   float64\n",
      " 3   Reviews         9366 non-null   int32  \n",
      " 4   Size            9366 non-null   int32  \n",
      " 5   Installs        9366 non-null   object \n",
      " 6   Type            9366 non-null   object \n",
      " 7   Price           9366 non-null   object \n",
      " 8   Content Rating  9366 non-null   object \n",
      " 9   Genres          9366 non-null   object \n",
      " 10  Last Updated    9366 non-null   object \n",
      " 11  Current Ver     9366 non-null   object \n",
      " 12  Android Ver     9366 non-null   object \n",
      "dtypes: float64(1), int32(2), object(10)\n",
      "memory usage: 1.2+ MB\n"
     ]
    }
   ],
   "source": [
    "df.info()"
   ]
  },
  {
   "cell_type": "code",
   "execution_count": 36,
   "id": "f618e373",
   "metadata": {},
   "outputs": [],
   "source": [
    "# df['Price']= df['Price'].replace(to_replace=\"$\",value=\"\",)\n",
    "# df['Price']=df['Price'].astype(float)"
   ]
  },
  {
   "cell_type": "code",
   "execution_count": 37,
   "id": "41ee302d",
   "metadata": {},
   "outputs": [],
   "source": [
    "df['Price'] = df['Price'].str.replace('$', '',regex=True)\n",
    "df['Price']=df['Price'].astype(float)"
   ]
  },
  {
   "cell_type": "code",
   "execution_count": 38,
   "id": "9f632f9d",
   "metadata": {
    "scrolled": true
   },
   "outputs": [
    {
     "name": "stdout",
     "output_type": "stream",
     "text": [
      "<class 'pandas.core.frame.DataFrame'>\n",
      "Int64Index: 9366 entries, 0 to 10840\n",
      "Data columns (total 13 columns):\n",
      " #   Column          Non-Null Count  Dtype  \n",
      "---  ------          --------------  -----  \n",
      " 0   App             9366 non-null   object \n",
      " 1   Category        9366 non-null   object \n",
      " 2   Rating          9366 non-null   float64\n",
      " 3   Reviews         9366 non-null   int32  \n",
      " 4   Size            9366 non-null   int32  \n",
      " 5   Installs        9366 non-null   object \n",
      " 6   Type            9366 non-null   object \n",
      " 7   Price           9366 non-null   float64\n",
      " 8   Content Rating  9366 non-null   object \n",
      " 9   Genres          9366 non-null   object \n",
      " 10  Last Updated    9366 non-null   object \n",
      " 11  Current Ver     9366 non-null   object \n",
      " 12  Android Ver     9366 non-null   object \n",
      "dtypes: float64(2), int32(2), object(9)\n",
      "memory usage: 1.2+ MB\n"
     ]
    }
   ],
   "source": [
    "df.info()"
   ]
  },
  {
   "cell_type": "code",
   "execution_count": 39,
   "id": "2e20363f",
   "metadata": {},
   "outputs": [],
   "source": [
    "#c. Installs – remove ‘,’ and ‘+’ sign, convert to integer"
   ]
  },
  {
   "cell_type": "code",
   "execution_count": 40,
   "id": "11eed6ce",
   "metadata": {},
   "outputs": [
    {
     "name": "stderr",
     "output_type": "stream",
     "text": [
      "<ipython-input-40-1b90b79efa91>:2: FutureWarning: The default value of regex will change from True to False in a future version. In addition, single character regular expressions will*not* be treated as literal strings when regex=True.\n",
      "  df[\"Installs\"]=df[\"Installs\"].str.replace(\"+\",\"\")\n"
     ]
    }
   ],
   "source": [
    "df[\"Installs\"]=df[\"Installs\"].str.replace(\",\",\"\")\n",
    "df[\"Installs\"]=df[\"Installs\"].str.replace(\"+\",\"\")\n",
    "df[\"Installs\"]=df[\"Installs\"].astype(int)"
   ]
  },
  {
   "cell_type": "code",
   "execution_count": 41,
   "id": "92a94728",
   "metadata": {},
   "outputs": [
    {
     "name": "stdout",
     "output_type": "stream",
     "text": [
      "<class 'pandas.core.frame.DataFrame'>\n",
      "Int64Index: 9366 entries, 0 to 10840\n",
      "Data columns (total 13 columns):\n",
      " #   Column          Non-Null Count  Dtype  \n",
      "---  ------          --------------  -----  \n",
      " 0   App             9366 non-null   object \n",
      " 1   Category        9366 non-null   object \n",
      " 2   Rating          9366 non-null   float64\n",
      " 3   Reviews         9366 non-null   int32  \n",
      " 4   Size            9366 non-null   int32  \n",
      " 5   Installs        9366 non-null   int32  \n",
      " 6   Type            9366 non-null   object \n",
      " 7   Price           9366 non-null   float64\n",
      " 8   Content Rating  9366 non-null   object \n",
      " 9   Genres          9366 non-null   object \n",
      " 10  Last Updated    9366 non-null   object \n",
      " 11  Current Ver     9366 non-null   object \n",
      " 12  Android Ver     9366 non-null   object \n",
      "dtypes: float64(2), int32(3), object(8)\n",
      "memory usage: 1.1+ MB\n"
     ]
    }
   ],
   "source": [
    "df.info()"
   ]
  },
  {
   "cell_type": "code",
   "execution_count": 42,
   "id": "c78bee40",
   "metadata": {},
   "outputs": [],
   "source": [
    "#d. Convert all other identified columns to numeric"
   ]
  },
  {
   "cell_type": "code",
   "execution_count": 43,
   "id": "e2d0f0df",
   "metadata": {},
   "outputs": [
    {
     "data": {
      "text/plain": [
       "App                object\n",
       "Category           object\n",
       "Rating            float64\n",
       "Reviews             int32\n",
       "Size                int32\n",
       "Installs            int32\n",
       "Type               object\n",
       "Price             float64\n",
       "Content Rating     object\n",
       "Genres             object\n",
       "Last Updated       object\n",
       "Current Ver        object\n",
       "Android Ver        object\n",
       "dtype: object"
      ]
     },
     "execution_count": 43,
     "metadata": {},
     "output_type": "execute_result"
    }
   ],
   "source": [
    "df.dtypes"
   ]
  },
  {
   "cell_type": "code",
   "execution_count": 44,
   "id": "b87b606c",
   "metadata": {},
   "outputs": [],
   "source": [
    "df['Reviews']=df['Reviews'].astype(int)"
   ]
  },
  {
   "cell_type": "code",
   "execution_count": 45,
   "id": "4aa61f81",
   "metadata": {},
   "outputs": [
    {
     "data": {
      "text/plain": [
       "App                object\n",
       "Category           object\n",
       "Rating            float64\n",
       "Reviews             int32\n",
       "Size                int32\n",
       "Installs            int32\n",
       "Type               object\n",
       "Price             float64\n",
       "Content Rating     object\n",
       "Genres             object\n",
       "Last Updated       object\n",
       "Current Ver        object\n",
       "Android Ver        object\n",
       "dtype: object"
      ]
     },
     "execution_count": 45,
     "metadata": {},
     "output_type": "execute_result"
    }
   ],
   "source": [
    "df.dtypes"
   ]
  },
  {
   "cell_type": "code",
   "execution_count": 46,
   "id": "35d313dd",
   "metadata": {},
   "outputs": [],
   "source": [
    "# 3. Sanity checks – check for the following and handle accordingly\n",
    "\n",
    "# a. Avg. rating should be between 1 and 5, as only these values are allowed on the play \n",
    "# store.\n",
    "         # i. Are there any such records? Drop if so"
   ]
  },
  {
   "cell_type": "code",
   "execution_count": 47,
   "id": "118f3efc",
   "metadata": {},
   "outputs": [
    {
     "data": {
      "text/html": [
       "<div>\n",
       "<style scoped>\n",
       "    .dataframe tbody tr th:only-of-type {\n",
       "        vertical-align: middle;\n",
       "    }\n",
       "\n",
       "    .dataframe tbody tr th {\n",
       "        vertical-align: top;\n",
       "    }\n",
       "\n",
       "    .dataframe thead th {\n",
       "        text-align: right;\n",
       "    }\n",
       "</style>\n",
       "<table border=\"1\" class=\"dataframe\">\n",
       "  <thead>\n",
       "    <tr style=\"text-align: right;\">\n",
       "      <th></th>\n",
       "      <th>App</th>\n",
       "      <th>Category</th>\n",
       "      <th>Rating</th>\n",
       "      <th>Reviews</th>\n",
       "      <th>Size</th>\n",
       "      <th>Installs</th>\n",
       "      <th>Type</th>\n",
       "      <th>Price</th>\n",
       "      <th>Content Rating</th>\n",
       "      <th>Genres</th>\n",
       "      <th>Last Updated</th>\n",
       "      <th>Current Ver</th>\n",
       "      <th>Android Ver</th>\n",
       "    </tr>\n",
       "  </thead>\n",
       "  <tbody>\n",
       "  </tbody>\n",
       "</table>\n",
       "</div>"
      ],
      "text/plain": [
       "Empty DataFrame\n",
       "Columns: [App, Category, Rating, Reviews, Size, Installs, Type, Price, Content Rating, Genres, Last Updated, Current Ver, Android Ver]\n",
       "Index: []"
      ]
     },
     "execution_count": 47,
     "metadata": {},
     "output_type": "execute_result"
    }
   ],
   "source": [
    "df[(df['Rating']>5)]"
   ]
  },
  {
   "cell_type": "code",
   "execution_count": 48,
   "id": "dddd0eaa",
   "metadata": {},
   "outputs": [
    {
     "data": {
      "text/plain": [
       "array([4.1, 3.9, 4.7, 4.5, 4.3, 4.4, 3.8, 4.2, 4.6, 3.2, 4. , 4.8, 4.9,\n",
       "       3.6, 3.7, 3.3, 3.4, 3.5, 3.1, 5. , 2.6, 3. , 1.9, 2.5, 2.8, 2.7,\n",
       "       1. , 2.9, 2.3, 2.2, 1.7, 2. , 1.8, 2.4, 1.6, 2.1, 1.4, 1.5, 1.2])"
      ]
     },
     "execution_count": 48,
     "metadata": {},
     "output_type": "execute_result"
    }
   ],
   "source": [
    "pd.unique(df[[\"Rating\"]].values.ravel())"
   ]
  },
  {
   "cell_type": "code",
   "execution_count": 49,
   "id": "e87c5aea",
   "metadata": {},
   "outputs": [],
   "source": [
    "# ---> No, There are no such records."
   ]
  },
  {
   "cell_type": "code",
   "execution_count": 50,
   "id": "c084c8a4",
   "metadata": {},
   "outputs": [],
   "source": [
    "\n",
    "# b. Reviews should not be more than installs as only those who installed can review the \n",
    "# app.\n",
    "      # i. Are there any such records? Drop if so\n",
    "    "
   ]
  },
  {
   "cell_type": "code",
   "execution_count": 51,
   "id": "7d5523cc",
   "metadata": {},
   "outputs": [
    {
     "data": {
      "text/html": [
       "<div>\n",
       "<style scoped>\n",
       "    .dataframe tbody tr th:only-of-type {\n",
       "        vertical-align: middle;\n",
       "    }\n",
       "\n",
       "    .dataframe tbody tr th {\n",
       "        vertical-align: top;\n",
       "    }\n",
       "\n",
       "    .dataframe thead th {\n",
       "        text-align: right;\n",
       "    }\n",
       "</style>\n",
       "<table border=\"1\" class=\"dataframe\">\n",
       "  <thead>\n",
       "    <tr style=\"text-align: right;\">\n",
       "      <th></th>\n",
       "      <th>App</th>\n",
       "      <th>Category</th>\n",
       "      <th>Rating</th>\n",
       "      <th>Reviews</th>\n",
       "      <th>Size</th>\n",
       "      <th>Installs</th>\n",
       "      <th>Type</th>\n",
       "      <th>Price</th>\n",
       "      <th>Content Rating</th>\n",
       "      <th>Genres</th>\n",
       "      <th>Last Updated</th>\n",
       "      <th>Current Ver</th>\n",
       "      <th>Android Ver</th>\n",
       "    </tr>\n",
       "  </thead>\n",
       "  <tbody>\n",
       "    <tr>\n",
       "      <th>2454</th>\n",
       "      <td>KBA-EZ Health Guide</td>\n",
       "      <td>MEDICAL</td>\n",
       "      <td>5.0</td>\n",
       "      <td>4</td>\n",
       "      <td>25000</td>\n",
       "      <td>1</td>\n",
       "      <td>Free</td>\n",
       "      <td>0.00</td>\n",
       "      <td>Everyone</td>\n",
       "      <td>Medical</td>\n",
       "      <td>August 2, 2018</td>\n",
       "      <td>1.0.72</td>\n",
       "      <td>4.0.3 and up</td>\n",
       "    </tr>\n",
       "    <tr>\n",
       "      <th>4663</th>\n",
       "      <td>Alarmy (Sleep If U Can) - Pro</td>\n",
       "      <td>LIFESTYLE</td>\n",
       "      <td>4.8</td>\n",
       "      <td>10249</td>\n",
       "      <td>21516</td>\n",
       "      <td>10000</td>\n",
       "      <td>Paid</td>\n",
       "      <td>2.49</td>\n",
       "      <td>Everyone</td>\n",
       "      <td>Lifestyle</td>\n",
       "      <td>July 30, 2018</td>\n",
       "      <td>Varies with device</td>\n",
       "      <td>Varies with device</td>\n",
       "    </tr>\n",
       "    <tr>\n",
       "      <th>5917</th>\n",
       "      <td>Ra Ga Ba</td>\n",
       "      <td>GAME</td>\n",
       "      <td>5.0</td>\n",
       "      <td>2</td>\n",
       "      <td>20000</td>\n",
       "      <td>1</td>\n",
       "      <td>Paid</td>\n",
       "      <td>1.49</td>\n",
       "      <td>Everyone</td>\n",
       "      <td>Arcade</td>\n",
       "      <td>February 8, 2017</td>\n",
       "      <td>1.0.4</td>\n",
       "      <td>2.3 and up</td>\n",
       "    </tr>\n",
       "    <tr>\n",
       "      <th>6700</th>\n",
       "      <td>Brick Breaker BR</td>\n",
       "      <td>GAME</td>\n",
       "      <td>5.0</td>\n",
       "      <td>7</td>\n",
       "      <td>19000</td>\n",
       "      <td>5</td>\n",
       "      <td>Free</td>\n",
       "      <td>0.00</td>\n",
       "      <td>Everyone</td>\n",
       "      <td>Arcade</td>\n",
       "      <td>July 23, 2018</td>\n",
       "      <td>1.0</td>\n",
       "      <td>4.1 and up</td>\n",
       "    </tr>\n",
       "    <tr>\n",
       "      <th>7402</th>\n",
       "      <td>Trovami se ci riesci</td>\n",
       "      <td>GAME</td>\n",
       "      <td>5.0</td>\n",
       "      <td>11</td>\n",
       "      <td>6100</td>\n",
       "      <td>10</td>\n",
       "      <td>Free</td>\n",
       "      <td>0.00</td>\n",
       "      <td>Everyone</td>\n",
       "      <td>Arcade</td>\n",
       "      <td>March 11, 2017</td>\n",
       "      <td>0.1</td>\n",
       "      <td>2.3 and up</td>\n",
       "    </tr>\n",
       "    <tr>\n",
       "      <th>8591</th>\n",
       "      <td>DN Blog</td>\n",
       "      <td>SOCIAL</td>\n",
       "      <td>5.0</td>\n",
       "      <td>20</td>\n",
       "      <td>4200</td>\n",
       "      <td>10</td>\n",
       "      <td>Free</td>\n",
       "      <td>0.00</td>\n",
       "      <td>Teen</td>\n",
       "      <td>Social</td>\n",
       "      <td>July 23, 2018</td>\n",
       "      <td>1.0</td>\n",
       "      <td>4.0 and up</td>\n",
       "    </tr>\n",
       "    <tr>\n",
       "      <th>10697</th>\n",
       "      <td>Mu.F.O.</td>\n",
       "      <td>GAME</td>\n",
       "      <td>5.0</td>\n",
       "      <td>2</td>\n",
       "      <td>16000</td>\n",
       "      <td>1</td>\n",
       "      <td>Paid</td>\n",
       "      <td>0.99</td>\n",
       "      <td>Everyone</td>\n",
       "      <td>Arcade</td>\n",
       "      <td>March 3, 2017</td>\n",
       "      <td>1.0</td>\n",
       "      <td>2.3 and up</td>\n",
       "    </tr>\n",
       "  </tbody>\n",
       "</table>\n",
       "</div>"
      ],
      "text/plain": [
       "                                 App   Category  Rating  Reviews   Size  \\\n",
       "2454             KBA-EZ Health Guide    MEDICAL     5.0        4  25000   \n",
       "4663   Alarmy (Sleep If U Can) - Pro  LIFESTYLE     4.8    10249  21516   \n",
       "5917                        Ra Ga Ba       GAME     5.0        2  20000   \n",
       "6700                Brick Breaker BR       GAME     5.0        7  19000   \n",
       "7402            Trovami se ci riesci       GAME     5.0       11   6100   \n",
       "8591                         DN Blog     SOCIAL     5.0       20   4200   \n",
       "10697                        Mu.F.O.       GAME     5.0        2  16000   \n",
       "\n",
       "       Installs  Type  Price Content Rating     Genres      Last Updated  \\\n",
       "2454          1  Free   0.00       Everyone    Medical    August 2, 2018   \n",
       "4663      10000  Paid   2.49       Everyone  Lifestyle     July 30, 2018   \n",
       "5917          1  Paid   1.49       Everyone     Arcade  February 8, 2017   \n",
       "6700          5  Free   0.00       Everyone     Arcade     July 23, 2018   \n",
       "7402         10  Free   0.00       Everyone     Arcade    March 11, 2017   \n",
       "8591         10  Free   0.00           Teen     Social     July 23, 2018   \n",
       "10697         1  Paid   0.99       Everyone     Arcade     March 3, 2017   \n",
       "\n",
       "              Current Ver         Android Ver  \n",
       "2454               1.0.72        4.0.3 and up  \n",
       "4663   Varies with device  Varies with device  \n",
       "5917                1.0.4          2.3 and up  \n",
       "6700                  1.0          4.1 and up  \n",
       "7402                  0.1          2.3 and up  \n",
       "8591                  1.0          4.0 and up  \n",
       "10697                 1.0          2.3 and up  "
      ]
     },
     "execution_count": 51,
     "metadata": {},
     "output_type": "execute_result"
    }
   ],
   "source": [
    "df[df.Reviews>df.Installs]"
   ]
  },
  {
   "cell_type": "code",
   "execution_count": 52,
   "id": "36a30f25",
   "metadata": {},
   "outputs": [
    {
     "data": {
      "text/plain": [
       "(9366, 13)"
      ]
     },
     "execution_count": 52,
     "metadata": {},
     "output_type": "execute_result"
    }
   ],
   "source": [
    "df.shape"
   ]
  },
  {
   "cell_type": "code",
   "execution_count": 53,
   "id": "a4b5007a",
   "metadata": {},
   "outputs": [],
   "source": [
    "index=df[df.Reviews>df.Installs].index\n",
    "df.drop(labels=index, inplace=True)"
   ]
  },
  {
   "cell_type": "code",
   "execution_count": 54,
   "id": "688692c4",
   "metadata": {},
   "outputs": [
    {
     "data": {
      "text/html": [
       "<div>\n",
       "<style scoped>\n",
       "    .dataframe tbody tr th:only-of-type {\n",
       "        vertical-align: middle;\n",
       "    }\n",
       "\n",
       "    .dataframe tbody tr th {\n",
       "        vertical-align: top;\n",
       "    }\n",
       "\n",
       "    .dataframe thead th {\n",
       "        text-align: right;\n",
       "    }\n",
       "</style>\n",
       "<table border=\"1\" class=\"dataframe\">\n",
       "  <thead>\n",
       "    <tr style=\"text-align: right;\">\n",
       "      <th></th>\n",
       "      <th>App</th>\n",
       "      <th>Category</th>\n",
       "      <th>Rating</th>\n",
       "      <th>Reviews</th>\n",
       "      <th>Size</th>\n",
       "      <th>Installs</th>\n",
       "      <th>Type</th>\n",
       "      <th>Price</th>\n",
       "      <th>Content Rating</th>\n",
       "      <th>Genres</th>\n",
       "      <th>Last Updated</th>\n",
       "      <th>Current Ver</th>\n",
       "      <th>Android Ver</th>\n",
       "    </tr>\n",
       "  </thead>\n",
       "  <tbody>\n",
       "  </tbody>\n",
       "</table>\n",
       "</div>"
      ],
      "text/plain": [
       "Empty DataFrame\n",
       "Columns: [App, Category, Rating, Reviews, Size, Installs, Type, Price, Content Rating, Genres, Last Updated, Current Ver, Android Ver]\n",
       "Index: []"
      ]
     },
     "execution_count": 54,
     "metadata": {},
     "output_type": "execute_result"
    }
   ],
   "source": [
    "df[df.Reviews>df.Installs] "
   ]
  },
  {
   "cell_type": "code",
   "execution_count": 55,
   "id": "3d06be94",
   "metadata": {},
   "outputs": [],
   "source": [
    "# ---> records removed,where Reviews were more than Installs...."
   ]
  },
  {
   "cell_type": "code",
   "execution_count": 56,
   "id": "5f10d6de",
   "metadata": {},
   "outputs": [],
   "source": [
    "# 4. Identify and handle outliers – \n",
    "#    a. Price column\n",
    "#       i. Make suitable plot to identify outliers in price"
   ]
  },
  {
   "cell_type": "code",
   "execution_count": 57,
   "id": "24ff5b7d",
   "metadata": {},
   "outputs": [
    {
     "data": {
      "image/png": "[encoded data removed]",
      "text/plain": [
       "<Figure size 864x576 with 1 Axes>"
      ]
     },
     "metadata": {
      "needs_background": "light"
     },
     "output_type": "display_data"
    }
   ],
   "source": [
    "plt.subplots(figsize =(12,8))\n",
    "sns.boxplot(y=\"Price\",data=df , orient = \"vertical\")\n",
    "\n",
    "plt.xlabel(\"Unit Price\")\n",
    "plt.title(\"Unit Price\")\n",
    "\n",
    "plt.show()"
   ]
  },
  {
   "cell_type": "code",
   "execution_count": 58,
   "id": "b34fee8f",
   "metadata": {},
   "outputs": [],
   "source": [
    "# plt.boxplot(df['Price'])\n",
    "# plt.xlabel(\"Unit Price\")\n",
    "# plt.title(\"Unit Price\")\n",
    "# plt.show()"
   ]
  },
  {
   "cell_type": "code",
   "execution_count": 59,
   "id": "71fd5360",
   "metadata": {},
   "outputs": [],
   "source": [
    "#ii. Do you expect apps on the play store to cost $200? Check out these cases"
   ]
  },
  {
   "cell_type": "code",
   "execution_count": 60,
   "id": "81db7f53",
   "metadata": {},
   "outputs": [
    {
     "data": {
      "text/html": [
       "<div>\n",
       "<style scoped>\n",
       "    .dataframe tbody tr th:only-of-type {\n",
       "        vertical-align: middle;\n",
       "    }\n",
       "\n",
       "    .dataframe tbody tr th {\n",
       "        vertical-align: top;\n",
       "    }\n",
       "\n",
       "    .dataframe thead th {\n",
       "        text-align: right;\n",
       "    }\n",
       "</style>\n",
       "<table border=\"1\" class=\"dataframe\">\n",
       "  <thead>\n",
       "    <tr style=\"text-align: right;\">\n",
       "      <th></th>\n",
       "      <th>App</th>\n",
       "      <th>Category</th>\n",
       "      <th>Rating</th>\n",
       "      <th>Reviews</th>\n",
       "      <th>Size</th>\n",
       "      <th>Installs</th>\n",
       "      <th>Type</th>\n",
       "      <th>Price</th>\n",
       "      <th>Content Rating</th>\n",
       "      <th>Genres</th>\n",
       "      <th>Last Updated</th>\n",
       "      <th>Current Ver</th>\n",
       "      <th>Android Ver</th>\n",
       "    </tr>\n",
       "  </thead>\n",
       "  <tbody>\n",
       "    <tr>\n",
       "      <th>4197</th>\n",
       "      <td>most expensive app (H)</td>\n",
       "      <td>FAMILY</td>\n",
       "      <td>4.3</td>\n",
       "      <td>6</td>\n",
       "      <td>1500</td>\n",
       "      <td>100</td>\n",
       "      <td>Paid</td>\n",
       "      <td>399.99</td>\n",
       "      <td>Everyone</td>\n",
       "      <td>Entertainment</td>\n",
       "      <td>July 16, 2018</td>\n",
       "      <td>1.0</td>\n",
       "      <td>7.0 and up</td>\n",
       "    </tr>\n",
       "    <tr>\n",
       "      <th>4362</th>\n",
       "      <td>💎 I'm rich</td>\n",
       "      <td>LIFESTYLE</td>\n",
       "      <td>3.8</td>\n",
       "      <td>718</td>\n",
       "      <td>26000</td>\n",
       "      <td>10000</td>\n",
       "      <td>Paid</td>\n",
       "      <td>399.99</td>\n",
       "      <td>Everyone</td>\n",
       "      <td>Lifestyle</td>\n",
       "      <td>March 11, 2018</td>\n",
       "      <td>1.0.0</td>\n",
       "      <td>4.4 and up</td>\n",
       "    </tr>\n",
       "    <tr>\n",
       "      <th>4367</th>\n",
       "      <td>I'm Rich - Trump Edition</td>\n",
       "      <td>LIFESTYLE</td>\n",
       "      <td>3.6</td>\n",
       "      <td>275</td>\n",
       "      <td>7300</td>\n",
       "      <td>10000</td>\n",
       "      <td>Paid</td>\n",
       "      <td>400.00</td>\n",
       "      <td>Everyone</td>\n",
       "      <td>Lifestyle</td>\n",
       "      <td>May 3, 2018</td>\n",
       "      <td>1.0.1</td>\n",
       "      <td>4.1 and up</td>\n",
       "    </tr>\n",
       "    <tr>\n",
       "      <th>5351</th>\n",
       "      <td>I am rich</td>\n",
       "      <td>LIFESTYLE</td>\n",
       "      <td>3.8</td>\n",
       "      <td>3547</td>\n",
       "      <td>1800</td>\n",
       "      <td>100000</td>\n",
       "      <td>Paid</td>\n",
       "      <td>399.99</td>\n",
       "      <td>Everyone</td>\n",
       "      <td>Lifestyle</td>\n",
       "      <td>January 12, 2018</td>\n",
       "      <td>2.0</td>\n",
       "      <td>4.0.3 and up</td>\n",
       "    </tr>\n",
       "    <tr>\n",
       "      <th>5354</th>\n",
       "      <td>I am Rich Plus</td>\n",
       "      <td>FAMILY</td>\n",
       "      <td>4.0</td>\n",
       "      <td>856</td>\n",
       "      <td>8700</td>\n",
       "      <td>10000</td>\n",
       "      <td>Paid</td>\n",
       "      <td>399.99</td>\n",
       "      <td>Everyone</td>\n",
       "      <td>Entertainment</td>\n",
       "      <td>May 19, 2018</td>\n",
       "      <td>3.0</td>\n",
       "      <td>4.4 and up</td>\n",
       "    </tr>\n",
       "    <tr>\n",
       "      <th>5355</th>\n",
       "      <td>I am rich VIP</td>\n",
       "      <td>LIFESTYLE</td>\n",
       "      <td>3.8</td>\n",
       "      <td>411</td>\n",
       "      <td>2600</td>\n",
       "      <td>10000</td>\n",
       "      <td>Paid</td>\n",
       "      <td>299.99</td>\n",
       "      <td>Everyone</td>\n",
       "      <td>Lifestyle</td>\n",
       "      <td>July 21, 2018</td>\n",
       "      <td>1.1.1</td>\n",
       "      <td>4.3 and up</td>\n",
       "    </tr>\n",
       "    <tr>\n",
       "      <th>5356</th>\n",
       "      <td>I Am Rich Premium</td>\n",
       "      <td>FINANCE</td>\n",
       "      <td>4.1</td>\n",
       "      <td>1867</td>\n",
       "      <td>4700</td>\n",
       "      <td>50000</td>\n",
       "      <td>Paid</td>\n",
       "      <td>399.99</td>\n",
       "      <td>Everyone</td>\n",
       "      <td>Finance</td>\n",
       "      <td>November 12, 2017</td>\n",
       "      <td>1.6</td>\n",
       "      <td>4.0 and up</td>\n",
       "    </tr>\n",
       "    <tr>\n",
       "      <th>5357</th>\n",
       "      <td>I am extremely Rich</td>\n",
       "      <td>LIFESTYLE</td>\n",
       "      <td>2.9</td>\n",
       "      <td>41</td>\n",
       "      <td>2900</td>\n",
       "      <td>1000</td>\n",
       "      <td>Paid</td>\n",
       "      <td>379.99</td>\n",
       "      <td>Everyone</td>\n",
       "      <td>Lifestyle</td>\n",
       "      <td>July 1, 2018</td>\n",
       "      <td>1.0</td>\n",
       "      <td>4.0 and up</td>\n",
       "    </tr>\n",
       "    <tr>\n",
       "      <th>5358</th>\n",
       "      <td>I am Rich!</td>\n",
       "      <td>FINANCE</td>\n",
       "      <td>3.8</td>\n",
       "      <td>93</td>\n",
       "      <td>22000</td>\n",
       "      <td>1000</td>\n",
       "      <td>Paid</td>\n",
       "      <td>399.99</td>\n",
       "      <td>Everyone</td>\n",
       "      <td>Finance</td>\n",
       "      <td>December 11, 2017</td>\n",
       "      <td>1.0</td>\n",
       "      <td>4.1 and up</td>\n",
       "    </tr>\n",
       "    <tr>\n",
       "      <th>5359</th>\n",
       "      <td>I am rich(premium)</td>\n",
       "      <td>FINANCE</td>\n",
       "      <td>3.5</td>\n",
       "      <td>472</td>\n",
       "      <td>965</td>\n",
       "      <td>5000</td>\n",
       "      <td>Paid</td>\n",
       "      <td>399.99</td>\n",
       "      <td>Everyone</td>\n",
       "      <td>Finance</td>\n",
       "      <td>May 1, 2017</td>\n",
       "      <td>3.4</td>\n",
       "      <td>4.4 and up</td>\n",
       "    </tr>\n",
       "    <tr>\n",
       "      <th>5362</th>\n",
       "      <td>I Am Rich Pro</td>\n",
       "      <td>FAMILY</td>\n",
       "      <td>4.4</td>\n",
       "      <td>201</td>\n",
       "      <td>2700</td>\n",
       "      <td>5000</td>\n",
       "      <td>Paid</td>\n",
       "      <td>399.99</td>\n",
       "      <td>Everyone</td>\n",
       "      <td>Entertainment</td>\n",
       "      <td>May 30, 2017</td>\n",
       "      <td>1.54</td>\n",
       "      <td>1.6 and up</td>\n",
       "    </tr>\n",
       "    <tr>\n",
       "      <th>5364</th>\n",
       "      <td>I am rich (Most expensive app)</td>\n",
       "      <td>FINANCE</td>\n",
       "      <td>4.1</td>\n",
       "      <td>129</td>\n",
       "      <td>2700</td>\n",
       "      <td>1000</td>\n",
       "      <td>Paid</td>\n",
       "      <td>399.99</td>\n",
       "      <td>Teen</td>\n",
       "      <td>Finance</td>\n",
       "      <td>December 6, 2017</td>\n",
       "      <td>2</td>\n",
       "      <td>4.0.3 and up</td>\n",
       "    </tr>\n",
       "    <tr>\n",
       "      <th>5366</th>\n",
       "      <td>I Am Rich</td>\n",
       "      <td>FAMILY</td>\n",
       "      <td>3.6</td>\n",
       "      <td>217</td>\n",
       "      <td>4900</td>\n",
       "      <td>10000</td>\n",
       "      <td>Paid</td>\n",
       "      <td>389.99</td>\n",
       "      <td>Everyone</td>\n",
       "      <td>Entertainment</td>\n",
       "      <td>June 22, 2018</td>\n",
       "      <td>1.5</td>\n",
       "      <td>4.2 and up</td>\n",
       "    </tr>\n",
       "    <tr>\n",
       "      <th>5369</th>\n",
       "      <td>I am Rich</td>\n",
       "      <td>FINANCE</td>\n",
       "      <td>4.3</td>\n",
       "      <td>180</td>\n",
       "      <td>3800</td>\n",
       "      <td>5000</td>\n",
       "      <td>Paid</td>\n",
       "      <td>399.99</td>\n",
       "      <td>Everyone</td>\n",
       "      <td>Finance</td>\n",
       "      <td>March 22, 2018</td>\n",
       "      <td>1.0</td>\n",
       "      <td>4.2 and up</td>\n",
       "    </tr>\n",
       "    <tr>\n",
       "      <th>5373</th>\n",
       "      <td>I AM RICH PRO PLUS</td>\n",
       "      <td>FINANCE</td>\n",
       "      <td>4.0</td>\n",
       "      <td>36</td>\n",
       "      <td>41000</td>\n",
       "      <td>1000</td>\n",
       "      <td>Paid</td>\n",
       "      <td>399.99</td>\n",
       "      <td>Everyone</td>\n",
       "      <td>Finance</td>\n",
       "      <td>June 25, 2018</td>\n",
       "      <td>1.0.2</td>\n",
       "      <td>4.1 and up</td>\n",
       "    </tr>\n",
       "  </tbody>\n",
       "</table>\n",
       "</div>"
      ],
      "text/plain": [
       "                                 App   Category  Rating  Reviews   Size  \\\n",
       "4197          most expensive app (H)     FAMILY     4.3        6   1500   \n",
       "4362                      💎 I'm rich  LIFESTYLE     3.8      718  26000   \n",
       "4367        I'm Rich - Trump Edition  LIFESTYLE     3.6      275   7300   \n",
       "5351                       I am rich  LIFESTYLE     3.8     3547   1800   \n",
       "5354                  I am Rich Plus     FAMILY     4.0      856   8700   \n",
       "5355                   I am rich VIP  LIFESTYLE     3.8      411   2600   \n",
       "5356               I Am Rich Premium    FINANCE     4.1     1867   4700   \n",
       "5357             I am extremely Rich  LIFESTYLE     2.9       41   2900   \n",
       "5358                      I am Rich!    FINANCE     3.8       93  22000   \n",
       "5359              I am rich(premium)    FINANCE     3.5      472    965   \n",
       "5362                   I Am Rich Pro     FAMILY     4.4      201   2700   \n",
       "5364  I am rich (Most expensive app)    FINANCE     4.1      129   2700   \n",
       "5366                       I Am Rich     FAMILY     3.6      217   4900   \n",
       "5369                       I am Rich    FINANCE     4.3      180   3800   \n",
       "5373              I AM RICH PRO PLUS    FINANCE     4.0       36  41000   \n",
       "\n",
       "      Installs  Type   Price Content Rating         Genres       Last Updated  \\\n",
       "4197       100  Paid  399.99       Everyone  Entertainment      July 16, 2018   \n",
       "4362     10000  Paid  399.99       Everyone      Lifestyle     March 11, 2018   \n",
       "4367     10000  Paid  400.00       Everyone      Lifestyle        May 3, 2018   \n",
       "5351    100000  Paid  399.99       Everyone      Lifestyle   January 12, 2018   \n",
       "5354     10000  Paid  399.99       Everyone  Entertainment       May 19, 2018   \n",
       "5355     10000  Paid  299.99       Everyone      Lifestyle      July 21, 2018   \n",
       "5356     50000  Paid  399.99       Everyone        Finance  November 12, 2017   \n",
       "5357      1000  Paid  379.99       Everyone      Lifestyle       July 1, 2018   \n",
       "5358      1000  Paid  399.99       Everyone        Finance  December 11, 2017   \n",
       "5359      5000  Paid  399.99       Everyone        Finance        May 1, 2017   \n",
       "5362      5000  Paid  399.99       Everyone  Entertainment       May 30, 2017   \n",
       "5364      1000  Paid  399.99           Teen        Finance   December 6, 2017   \n",
       "5366     10000  Paid  389.99       Everyone  Entertainment      June 22, 2018   \n",
       "5369      5000  Paid  399.99       Everyone        Finance     March 22, 2018   \n",
       "5373      1000  Paid  399.99       Everyone        Finance      June 25, 2018   \n",
       "\n",
       "     Current Ver   Android Ver  \n",
       "4197         1.0    7.0 and up  \n",
       "4362       1.0.0    4.4 and up  \n",
       "4367       1.0.1    4.1 and up  \n",
       "5351         2.0  4.0.3 and up  \n",
       "5354         3.0    4.4 and up  \n",
       "5355       1.1.1    4.3 and up  \n",
       "5356         1.6    4.0 and up  \n",
       "5357         1.0    4.0 and up  \n",
       "5358         1.0    4.1 and up  \n",
       "5359         3.4    4.4 and up  \n",
       "5362        1.54    1.6 and up  \n",
       "5364           2  4.0.3 and up  \n",
       "5366         1.5    4.2 and up  \n",
       "5369         1.0    4.2 and up  \n",
       "5373       1.0.2    4.1 and up  "
      ]
     },
     "execution_count": 60,
     "metadata": {},
     "output_type": "execute_result"
    }
   ],
   "source": [
    "df.loc[df['Price']>200]"
   ]
  },
  {
   "cell_type": "code",
   "execution_count": 61,
   "id": "ece9b82a",
   "metadata": {},
   "outputs": [],
   "source": [
    "drp = df[df['Price'] > 30].index\n",
    "df.drop(labels=drp, inplace=True)"
   ]
  },
  {
   "cell_type": "code",
   "execution_count": 62,
   "id": "173d83e9",
   "metadata": {},
   "outputs": [
    {
     "data": {
      "text/plain": [
       "0"
      ]
     },
     "execution_count": 62,
     "metadata": {},
     "output_type": "execute_result"
    }
   ],
   "source": [
    "records = df.loc[df['Price'] > 30].index\n",
    "records.value_counts().sum()"
   ]
  },
  {
   "cell_type": "code",
   "execution_count": 63,
   "id": "d31f590d",
   "metadata": {},
   "outputs": [],
   "source": [
    "# iii. After dropping the useless records, make the suitable plot again to identify \n",
    "# outliers"
   ]
  },
  {
   "cell_type": "code",
   "execution_count": 64,
   "id": "c1ed528f",
   "metadata": {},
   "outputs": [
    {
     "data": {
      "image/png": "[encoded data removed]",
      "text/plain": [
       "<Figure size 1440x576 with 1 Axes>"
      ]
     },
     "metadata": {
      "needs_background": "light"
     },
     "output_type": "display_data"
    }
   ],
   "source": [
    "usful_df = df[df['Price'] != 0]\n",
    "# usful_df\n",
    "plt.subplots(figsize=(20,8))\n",
    "# sns.boxplot(usful_df.Price)\n",
    "sns.boxplot(y=\"Price\",data=usful_df, orient = \"vertical\")\n",
    "\n",
    "plt.title(\"Unit Price\")\n",
    "plt.grid()\n",
    "plt.show()"
   ]
  },
  {
   "cell_type": "code",
   "execution_count": 65,
   "id": "f8007be3",
   "metadata": {},
   "outputs": [],
   "source": [
    "#iv. Limit data to records with price < $30"
   ]
  },
  {
   "cell_type": "code",
   "execution_count": 66,
   "id": "5c5f62c8",
   "metadata": {},
   "outputs": [
    {
     "data": {
      "text/html": [
       "<div>\n",
       "<style scoped>\n",
       "    .dataframe tbody tr th:only-of-type {\n",
       "        vertical-align: middle;\n",
       "    }\n",
       "\n",
       "    .dataframe tbody tr th {\n",
       "        vertical-align: top;\n",
       "    }\n",
       "\n",
       "    .dataframe thead th {\n",
       "        text-align: right;\n",
       "    }\n",
       "</style>\n",
       "<table border=\"1\" class=\"dataframe\">\n",
       "  <thead>\n",
       "    <tr style=\"text-align: right;\">\n",
       "      <th></th>\n",
       "      <th>App</th>\n",
       "      <th>Category</th>\n",
       "      <th>Rating</th>\n",
       "      <th>Reviews</th>\n",
       "      <th>Size</th>\n",
       "      <th>Installs</th>\n",
       "      <th>Type</th>\n",
       "      <th>Price</th>\n",
       "      <th>Content Rating</th>\n",
       "      <th>Genres</th>\n",
       "      <th>Last Updated</th>\n",
       "      <th>Current Ver</th>\n",
       "      <th>Android Ver</th>\n",
       "    </tr>\n",
       "  </thead>\n",
       "  <tbody>\n",
       "    <tr>\n",
       "      <th>0</th>\n",
       "      <td>Photo Editor &amp; Candy Camera &amp; Grid &amp; ScrapBook</td>\n",
       "      <td>ART_AND_DESIGN</td>\n",
       "      <td>4.1</td>\n",
       "      <td>159</td>\n",
       "      <td>19000</td>\n",
       "      <td>10000</td>\n",
       "      <td>Free</td>\n",
       "      <td>0.0</td>\n",
       "      <td>Everyone</td>\n",
       "      <td>Art &amp; Design</td>\n",
       "      <td>January 7, 2018</td>\n",
       "      <td>1.0.0</td>\n",
       "      <td>4.0.3 and up</td>\n",
       "    </tr>\n",
       "    <tr>\n",
       "      <th>1</th>\n",
       "      <td>Coloring book moana</td>\n",
       "      <td>ART_AND_DESIGN</td>\n",
       "      <td>3.9</td>\n",
       "      <td>967</td>\n",
       "      <td>14000</td>\n",
       "      <td>500000</td>\n",
       "      <td>Free</td>\n",
       "      <td>0.0</td>\n",
       "      <td>Everyone</td>\n",
       "      <td>Art &amp; Design;Pretend Play</td>\n",
       "      <td>January 15, 2018</td>\n",
       "      <td>2.0.0</td>\n",
       "      <td>4.0.3 and up</td>\n",
       "    </tr>\n",
       "    <tr>\n",
       "      <th>2</th>\n",
       "      <td>U Launcher Lite – FREE Live Cool Themes, Hide ...</td>\n",
       "      <td>ART_AND_DESIGN</td>\n",
       "      <td>4.7</td>\n",
       "      <td>87510</td>\n",
       "      <td>8700</td>\n",
       "      <td>5000000</td>\n",
       "      <td>Free</td>\n",
       "      <td>0.0</td>\n",
       "      <td>Everyone</td>\n",
       "      <td>Art &amp; Design</td>\n",
       "      <td>August 1, 2018</td>\n",
       "      <td>1.2.4</td>\n",
       "      <td>4.0.3 and up</td>\n",
       "    </tr>\n",
       "    <tr>\n",
       "      <th>3</th>\n",
       "      <td>Sketch - Draw &amp; Paint</td>\n",
       "      <td>ART_AND_DESIGN</td>\n",
       "      <td>4.5</td>\n",
       "      <td>215644</td>\n",
       "      <td>25000</td>\n",
       "      <td>50000000</td>\n",
       "      <td>Free</td>\n",
       "      <td>0.0</td>\n",
       "      <td>Teen</td>\n",
       "      <td>Art &amp; Design</td>\n",
       "      <td>June 8, 2018</td>\n",
       "      <td>Varies with device</td>\n",
       "      <td>4.2 and up</td>\n",
       "    </tr>\n",
       "    <tr>\n",
       "      <th>4</th>\n",
       "      <td>Pixel Draw - Number Art Coloring Book</td>\n",
       "      <td>ART_AND_DESIGN</td>\n",
       "      <td>4.3</td>\n",
       "      <td>967</td>\n",
       "      <td>2800</td>\n",
       "      <td>100000</td>\n",
       "      <td>Free</td>\n",
       "      <td>0.0</td>\n",
       "      <td>Everyone</td>\n",
       "      <td>Art &amp; Design;Creativity</td>\n",
       "      <td>June 20, 2018</td>\n",
       "      <td>1.1</td>\n",
       "      <td>4.4 and up</td>\n",
       "    </tr>\n",
       "  </tbody>\n",
       "</table>\n",
       "</div>"
      ],
      "text/plain": [
       "                                                 App        Category  Rating  \\\n",
       "0     Photo Editor & Candy Camera & Grid & ScrapBook  ART_AND_DESIGN     4.1   \n",
       "1                                Coloring book moana  ART_AND_DESIGN     3.9   \n",
       "2  U Launcher Lite – FREE Live Cool Themes, Hide ...  ART_AND_DESIGN     4.7   \n",
       "3                              Sketch - Draw & Paint  ART_AND_DESIGN     4.5   \n",
       "4              Pixel Draw - Number Art Coloring Book  ART_AND_DESIGN     4.3   \n",
       "\n",
       "   Reviews   Size  Installs  Type  Price Content Rating  \\\n",
       "0      159  19000     10000  Free    0.0       Everyone   \n",
       "1      967  14000    500000  Free    0.0       Everyone   \n",
       "2    87510   8700   5000000  Free    0.0       Everyone   \n",
       "3   215644  25000  50000000  Free    0.0           Teen   \n",
       "4      967   2800    100000  Free    0.0       Everyone   \n",
       "\n",
       "                      Genres      Last Updated         Current Ver  \\\n",
       "0               Art & Design   January 7, 2018               1.0.0   \n",
       "1  Art & Design;Pretend Play  January 15, 2018               2.0.0   \n",
       "2               Art & Design    August 1, 2018               1.2.4   \n",
       "3               Art & Design      June 8, 2018  Varies with device   \n",
       "4    Art & Design;Creativity     June 20, 2018                 1.1   \n",
       "\n",
       "    Android Ver  \n",
       "0  4.0.3 and up  \n",
       "1  4.0.3 and up  \n",
       "2  4.0.3 and up  \n",
       "3    4.2 and up  \n",
       "4    4.4 and up  "
      ]
     },
     "execution_count": 66,
     "metadata": {},
     "output_type": "execute_result"
    }
   ],
   "source": [
    "limit_data = df[df['Price'] < 30]\n",
    "limit_data.head()"
   ]
  },
  {
   "cell_type": "code",
   "execution_count": 67,
   "id": "50d6e836",
   "metadata": {},
   "outputs": [
    {
     "data": {
      "text/plain": [
       "(9338, 13)"
      ]
     },
     "execution_count": 67,
     "metadata": {},
     "output_type": "execute_result"
    }
   ],
   "source": [
    "limit_data.shape"
   ]
  },
  {
   "cell_type": "code",
   "execution_count": 68,
   "id": "80277c25",
   "metadata": {},
   "outputs": [],
   "source": [
    "# b. Reviews column\n",
    "   \n",
    "    # i. Make suitable plot"
   ]
  },
  {
   "cell_type": "code",
   "execution_count": 69,
   "id": "d404d950",
   "metadata": {},
   "outputs": [
    {
     "name": "stdout",
     "output_type": "stream",
     "text": [
      "Category\n",
      "GAME                   1585419555\n",
      "COMMUNICATION           815461799\n",
      "SOCIAL                  621241071\n",
      "FAMILY                  410221801\n",
      "TOOLS                   273184168\n",
      "PHOTOGRAPHY             213516607\n",
      "SHOPPING                115041033\n",
      "PRODUCTIVITY            114116717\n",
      "VIDEO_PLAYERS           110379692\n",
      "PERSONALIZATION          89345815\n",
      "SPORTS                   70829568\n",
      "TRAVEL_AND_LOCAL         62617772\n",
      "ENTERTAINMENT            59178154\n",
      "NEWS_AND_MAGAZINES       54399899\n",
      "EDUCATION                39595010\n",
      "HEALTH_AND_FITNESS       37893622\n",
      "MAPS_AND_NAVIGATION      30659060\n",
      "BOOKS_AND_REFERENCE      21958660\n",
      "FINANCE                  17547629\n",
      "WEATHER                  14604695\n",
      "BUSINESS                 13954086\n",
      "LIFESTYLE                12866394\n",
      "FOOD_AND_DRINK            8883009\n",
      "DATING                    7291039\n",
      "HOUSE_AND_HOME            3976004\n",
      "COMICS                    3381945\n",
      "ART_AND_DESIGN            1714372\n",
      "MEDICAL                   1585000\n",
      "AUTO_AND_VEHICLES         1163630\n",
      "LIBRARIES_AND_DEMO        1033535\n",
      "PARENTING                  953609\n",
      "BEAUTY                     395133\n",
      "EVENTS                     160590\n",
      "Name: Reviews, dtype: int32\n"
     ]
    },
    {
     "data": {
      "image/png": "[encoded data removed]",
      "text/plain": [
       "<Figure size 1080x576 with 1 Axes>"
      ]
     },
     "metadata": {
      "needs_background": "light"
     },
     "output_type": "display_data"
    }
   ],
   "source": [
    "df2=df.groupby('Category')['Reviews'].sum().sort_values()\n",
    "plt.subplots(figsize=(15,8))\n",
    "df2.plot(kind='barh', fontsize=14)\n",
    "print(df2.sort_values(ascending=False))\n",
    "plt.show()"
   ]
  },
  {
   "cell_type": "code",
   "execution_count": 70,
   "id": "481b83cd",
   "metadata": {},
   "outputs": [],
   "source": [
    "#ii. Limit data to apps with < 1 Million reviews"
   ]
  },
  {
   "cell_type": "code",
   "execution_count": 71,
   "id": "1fce5384",
   "metadata": {},
   "outputs": [
    {
     "data": {
      "text/html": [
       "<div>\n",
       "<style scoped>\n",
       "    .dataframe tbody tr th:only-of-type {\n",
       "        vertical-align: middle;\n",
       "    }\n",
       "\n",
       "    .dataframe tbody tr th {\n",
       "        vertical-align: top;\n",
       "    }\n",
       "\n",
       "    .dataframe thead th {\n",
       "        text-align: right;\n",
       "    }\n",
       "</style>\n",
       "<table border=\"1\" class=\"dataframe\">\n",
       "  <thead>\n",
       "    <tr style=\"text-align: right;\">\n",
       "      <th></th>\n",
       "      <th>App</th>\n",
       "      <th>Category</th>\n",
       "      <th>Rating</th>\n",
       "      <th>Reviews</th>\n",
       "      <th>Size</th>\n",
       "      <th>Installs</th>\n",
       "      <th>Type</th>\n",
       "      <th>Price</th>\n",
       "      <th>Content Rating</th>\n",
       "      <th>Genres</th>\n",
       "      <th>Last Updated</th>\n",
       "      <th>Current Ver</th>\n",
       "      <th>Android Ver</th>\n",
       "    </tr>\n",
       "  </thead>\n",
       "  <tbody>\n",
       "    <tr>\n",
       "      <th>0</th>\n",
       "      <td>Photo Editor &amp; Candy Camera &amp; Grid &amp; ScrapBook</td>\n",
       "      <td>ART_AND_DESIGN</td>\n",
       "      <td>4.1</td>\n",
       "      <td>159</td>\n",
       "      <td>19000</td>\n",
       "      <td>10000</td>\n",
       "      <td>Free</td>\n",
       "      <td>0.0</td>\n",
       "      <td>Everyone</td>\n",
       "      <td>Art &amp; Design</td>\n",
       "      <td>January 7, 2018</td>\n",
       "      <td>1.0.0</td>\n",
       "      <td>4.0.3 and up</td>\n",
       "    </tr>\n",
       "    <tr>\n",
       "      <th>1</th>\n",
       "      <td>Coloring book moana</td>\n",
       "      <td>ART_AND_DESIGN</td>\n",
       "      <td>3.9</td>\n",
       "      <td>967</td>\n",
       "      <td>14000</td>\n",
       "      <td>500000</td>\n",
       "      <td>Free</td>\n",
       "      <td>0.0</td>\n",
       "      <td>Everyone</td>\n",
       "      <td>Art &amp; Design;Pretend Play</td>\n",
       "      <td>January 15, 2018</td>\n",
       "      <td>2.0.0</td>\n",
       "      <td>4.0.3 and up</td>\n",
       "    </tr>\n",
       "    <tr>\n",
       "      <th>2</th>\n",
       "      <td>U Launcher Lite – FREE Live Cool Themes, Hide ...</td>\n",
       "      <td>ART_AND_DESIGN</td>\n",
       "      <td>4.7</td>\n",
       "      <td>87510</td>\n",
       "      <td>8700</td>\n",
       "      <td>5000000</td>\n",
       "      <td>Free</td>\n",
       "      <td>0.0</td>\n",
       "      <td>Everyone</td>\n",
       "      <td>Art &amp; Design</td>\n",
       "      <td>August 1, 2018</td>\n",
       "      <td>1.2.4</td>\n",
       "      <td>4.0.3 and up</td>\n",
       "    </tr>\n",
       "    <tr>\n",
       "      <th>3</th>\n",
       "      <td>Sketch - Draw &amp; Paint</td>\n",
       "      <td>ART_AND_DESIGN</td>\n",
       "      <td>4.5</td>\n",
       "      <td>215644</td>\n",
       "      <td>25000</td>\n",
       "      <td>50000000</td>\n",
       "      <td>Free</td>\n",
       "      <td>0.0</td>\n",
       "      <td>Teen</td>\n",
       "      <td>Art &amp; Design</td>\n",
       "      <td>June 8, 2018</td>\n",
       "      <td>Varies with device</td>\n",
       "      <td>4.2 and up</td>\n",
       "    </tr>\n",
       "    <tr>\n",
       "      <th>4</th>\n",
       "      <td>Pixel Draw - Number Art Coloring Book</td>\n",
       "      <td>ART_AND_DESIGN</td>\n",
       "      <td>4.3</td>\n",
       "      <td>967</td>\n",
       "      <td>2800</td>\n",
       "      <td>100000</td>\n",
       "      <td>Free</td>\n",
       "      <td>0.0</td>\n",
       "      <td>Everyone</td>\n",
       "      <td>Art &amp; Design;Creativity</td>\n",
       "      <td>June 20, 2018</td>\n",
       "      <td>1.1</td>\n",
       "      <td>4.4 and up</td>\n",
       "    </tr>\n",
       "    <tr>\n",
       "      <th>...</th>\n",
       "      <td>...</td>\n",
       "      <td>...</td>\n",
       "      <td>...</td>\n",
       "      <td>...</td>\n",
       "      <td>...</td>\n",
       "      <td>...</td>\n",
       "      <td>...</td>\n",
       "      <td>...</td>\n",
       "      <td>...</td>\n",
       "      <td>...</td>\n",
       "      <td>...</td>\n",
       "      <td>...</td>\n",
       "      <td>...</td>\n",
       "    </tr>\n",
       "    <tr>\n",
       "      <th>10834</th>\n",
       "      <td>FR Calculator</td>\n",
       "      <td>FAMILY</td>\n",
       "      <td>4.0</td>\n",
       "      <td>7</td>\n",
       "      <td>2600</td>\n",
       "      <td>500</td>\n",
       "      <td>Free</td>\n",
       "      <td>0.0</td>\n",
       "      <td>Everyone</td>\n",
       "      <td>Education</td>\n",
       "      <td>June 18, 2017</td>\n",
       "      <td>1.0.0</td>\n",
       "      <td>4.1 and up</td>\n",
       "    </tr>\n",
       "    <tr>\n",
       "      <th>10836</th>\n",
       "      <td>Sya9a Maroc - FR</td>\n",
       "      <td>FAMILY</td>\n",
       "      <td>4.5</td>\n",
       "      <td>38</td>\n",
       "      <td>53000</td>\n",
       "      <td>5000</td>\n",
       "      <td>Free</td>\n",
       "      <td>0.0</td>\n",
       "      <td>Everyone</td>\n",
       "      <td>Education</td>\n",
       "      <td>July 25, 2017</td>\n",
       "      <td>1.48</td>\n",
       "      <td>4.1 and up</td>\n",
       "    </tr>\n",
       "    <tr>\n",
       "      <th>10837</th>\n",
       "      <td>Fr. Mike Schmitz Audio Teachings</td>\n",
       "      <td>FAMILY</td>\n",
       "      <td>5.0</td>\n",
       "      <td>4</td>\n",
       "      <td>3600</td>\n",
       "      <td>100</td>\n",
       "      <td>Free</td>\n",
       "      <td>0.0</td>\n",
       "      <td>Everyone</td>\n",
       "      <td>Education</td>\n",
       "      <td>July 6, 2018</td>\n",
       "      <td>1.0</td>\n",
       "      <td>4.1 and up</td>\n",
       "    </tr>\n",
       "    <tr>\n",
       "      <th>10839</th>\n",
       "      <td>The SCP Foundation DB fr nn5n</td>\n",
       "      <td>BOOKS_AND_REFERENCE</td>\n",
       "      <td>4.5</td>\n",
       "      <td>114</td>\n",
       "      <td>21516</td>\n",
       "      <td>1000</td>\n",
       "      <td>Free</td>\n",
       "      <td>0.0</td>\n",
       "      <td>Mature 17+</td>\n",
       "      <td>Books &amp; Reference</td>\n",
       "      <td>January 19, 2015</td>\n",
       "      <td>Varies with device</td>\n",
       "      <td>Varies with device</td>\n",
       "    </tr>\n",
       "    <tr>\n",
       "      <th>10840</th>\n",
       "      <td>iHoroscope - 2018 Daily Horoscope &amp; Astrology</td>\n",
       "      <td>LIFESTYLE</td>\n",
       "      <td>4.5</td>\n",
       "      <td>398307</td>\n",
       "      <td>19000</td>\n",
       "      <td>10000000</td>\n",
       "      <td>Free</td>\n",
       "      <td>0.0</td>\n",
       "      <td>Everyone</td>\n",
       "      <td>Lifestyle</td>\n",
       "      <td>July 25, 2018</td>\n",
       "      <td>Varies with device</td>\n",
       "      <td>Varies with device</td>\n",
       "    </tr>\n",
       "  </tbody>\n",
       "</table>\n",
       "<p>8634 rows × 13 columns</p>\n",
       "</div>"
      ],
      "text/plain": [
       "                                                     App             Category  \\\n",
       "0         Photo Editor & Candy Camera & Grid & ScrapBook       ART_AND_DESIGN   \n",
       "1                                    Coloring book moana       ART_AND_DESIGN   \n",
       "2      U Launcher Lite – FREE Live Cool Themes, Hide ...       ART_AND_DESIGN   \n",
       "3                                  Sketch - Draw & Paint       ART_AND_DESIGN   \n",
       "4                  Pixel Draw - Number Art Coloring Book       ART_AND_DESIGN   \n",
       "...                                                  ...                  ...   \n",
       "10834                                      FR Calculator               FAMILY   \n",
       "10836                                   Sya9a Maroc - FR               FAMILY   \n",
       "10837                   Fr. Mike Schmitz Audio Teachings               FAMILY   \n",
       "10839                      The SCP Foundation DB fr nn5n  BOOKS_AND_REFERENCE   \n",
       "10840      iHoroscope - 2018 Daily Horoscope & Astrology            LIFESTYLE   \n",
       "\n",
       "       Rating  Reviews   Size  Installs  Type  Price Content Rating  \\\n",
       "0         4.1      159  19000     10000  Free    0.0       Everyone   \n",
       "1         3.9      967  14000    500000  Free    0.0       Everyone   \n",
       "2         4.7    87510   8700   5000000  Free    0.0       Everyone   \n",
       "3         4.5   215644  25000  50000000  Free    0.0           Teen   \n",
       "4         4.3      967   2800    100000  Free    0.0       Everyone   \n",
       "...       ...      ...    ...       ...   ...    ...            ...   \n",
       "10834     4.0        7   2600       500  Free    0.0       Everyone   \n",
       "10836     4.5       38  53000      5000  Free    0.0       Everyone   \n",
       "10837     5.0        4   3600       100  Free    0.0       Everyone   \n",
       "10839     4.5      114  21516      1000  Free    0.0     Mature 17+   \n",
       "10840     4.5   398307  19000  10000000  Free    0.0       Everyone   \n",
       "\n",
       "                          Genres      Last Updated         Current Ver  \\\n",
       "0                   Art & Design   January 7, 2018               1.0.0   \n",
       "1      Art & Design;Pretend Play  January 15, 2018               2.0.0   \n",
       "2                   Art & Design    August 1, 2018               1.2.4   \n",
       "3                   Art & Design      June 8, 2018  Varies with device   \n",
       "4        Art & Design;Creativity     June 20, 2018                 1.1   \n",
       "...                          ...               ...                 ...   \n",
       "10834                  Education     June 18, 2017               1.0.0   \n",
       "10836                  Education     July 25, 2017                1.48   \n",
       "10837                  Education      July 6, 2018                 1.0   \n",
       "10839          Books & Reference  January 19, 2015  Varies with device   \n",
       "10840                  Lifestyle     July 25, 2018  Varies with device   \n",
       "\n",
       "              Android Ver  \n",
       "0            4.0.3 and up  \n",
       "1            4.0.3 and up  \n",
       "2            4.0.3 and up  \n",
       "3              4.2 and up  \n",
       "4              4.4 and up  \n",
       "...                   ...  \n",
       "10834          4.1 and up  \n",
       "10836          4.1 and up  \n",
       "10837          4.1 and up  \n",
       "10839  Varies with device  \n",
       "10840  Varies with device  \n",
       "\n",
       "[8634 rows x 13 columns]"
      ]
     },
     "execution_count": 71,
     "metadata": {},
     "output_type": "execute_result"
    }
   ],
   "source": [
    "df[df['Reviews'] < 1000000]"
   ]
  },
  {
   "cell_type": "code",
   "execution_count": 72,
   "id": "91fe2b87",
   "metadata": {},
   "outputs": [],
   "source": [
    "#---->We found 8655 rows of limited data to apps with < 1 Million reviews\n"
   ]
  },
  {
   "cell_type": "code",
   "execution_count": 73,
   "id": "322f1f76",
   "metadata": {},
   "outputs": [
    {
     "name": "stdout",
     "output_type": "stream",
     "text": [
      "704 cols dropped\n"
     ]
    }
   ],
   "source": [
    "drp2 = df[df['Reviews'] > 1000000 ].index\n",
    "df.drop(labels = drp2, inplace=True)\n",
    "print(drp2.value_counts().sum(),'cols dropped')"
   ]
  },
  {
   "cell_type": "code",
   "execution_count": 74,
   "id": "f1c9d873",
   "metadata": {},
   "outputs": [],
   "source": [
    "#c. Installs\n",
    "  \n",
    "    #i. What is the 95th percentile of the installs?"
   ]
  },
  {
   "cell_type": "code",
   "execution_count": 75,
   "id": "9740c105",
   "metadata": {},
   "outputs": [
    {
     "name": "stdout",
     "output_type": "stream",
     "text": [
      "10000000.0\n"
     ]
    }
   ],
   "source": [
    "per = df.Installs.quantile(0.95) # 95th percentile\n",
    "print(per)"
   ]
  },
  {
   "cell_type": "code",
   "execution_count": 76,
   "id": "fd4774a5",
   "metadata": {},
   "outputs": [],
   "source": [
    "#--->100000000.0 is the 95th percentile of the installs"
   ]
  },
  {
   "cell_type": "code",
   "execution_count": 77,
   "id": "637a64f7",
   "metadata": {},
   "outputs": [],
   "source": [
    "\n",
    "#ii. Drop records having a value more than the 95th percentile"
   ]
  },
  {
   "cell_type": "code",
   "execution_count": 78,
   "id": "b93ec59f",
   "metadata": {},
   "outputs": [
    {
     "name": "stdout",
     "output_type": "stream",
     "text": [
      "False\n"
     ]
    }
   ],
   "source": [
    "x = df.Installs.quantile() > per\n",
    "print (x)"
   ]
  },
  {
   "cell_type": "code",
   "execution_count": 79,
   "id": "24bf1547",
   "metadata": {},
   "outputs": [],
   "source": [
    "#there is no value more than 95th percentile..."
   ]
  },
  {
   "cell_type": "code",
   "execution_count": 80,
   "id": "ff98a313",
   "metadata": {},
   "outputs": [],
   "source": [
    "# Data analysis to answer business questions\n",
    " \n",
    "    # 5. What is the distribution of ratings like? (use Seaborn) More skewed towards higher/lower \n",
    "     # values?\n",
    "        \n",
    "       # a. How do you explain this?"
   ]
  },
  {
   "cell_type": "code",
   "execution_count": 81,
   "id": "529ea76c",
   "metadata": {},
   "outputs": [
    {
     "data": {
      "image/png": "[encoded data removed]",
      "text/plain": [
       "<Figure size 360x360 with 1 Axes>"
      ]
     },
     "metadata": {
      "needs_background": "light"
     },
     "output_type": "display_data"
    }
   ],
   "source": [
    "sns.displot(df['Rating'],color=\"red\",kde = True)\n",
    "plt.show()"
   ]
  },
  {
   "cell_type": "code",
   "execution_count": 82,
   "id": "48eaf17b",
   "metadata": {},
   "outputs": [],
   "source": [
    "#b. What is the implication of this on your analysis?"
   ]
  },
  {
   "cell_type": "code",
   "execution_count": 83,
   "id": "18bdf55e",
   "metadata": {},
   "outputs": [],
   "source": [
    "#--->it is negatively skewed tailed towards left side of the disribution\n",
    "#--->Since mode>= median > mean, the distribution of Rating is Negatively Skewed.Therefore distribution of Rating \n",
    "# is more Skewed towards lower values."
   ]
  },
  {
   "cell_type": "code",
   "execution_count": 84,
   "id": "90a57d1c",
   "metadata": {},
   "outputs": [],
   "source": [
    "\n",
    "#6. What are the top Content Rating values?\n",
    "    \n",
    "    #a. Are there any values with very few records?"
   ]
  },
  {
   "cell_type": "code",
   "execution_count": 85,
   "id": "62e054f7",
   "metadata": {},
   "outputs": [
    {
     "data": {
      "text/plain": [
       "Everyone           6943\n",
       "Teen                933\n",
       "Mature 17+          417\n",
       "Everyone 10+        337\n",
       "Adults only 18+       3\n",
       "Unrated               1\n",
       "Name: Content Rating, dtype: int64"
      ]
     },
     "execution_count": 85,
     "metadata": {},
     "output_type": "execute_result"
    }
   ],
   "source": [
    "df[\"Content Rating\"].value_counts()"
   ]
  },
  {
   "cell_type": "code",
   "execution_count": 86,
   "id": "dcec24e9",
   "metadata": {},
   "outputs": [],
   "source": [
    "#Adults only 18+ and Unrated are values with very few records so we will drop them."
   ]
  },
  {
   "cell_type": "code",
   "execution_count": 87,
   "id": "636ce78c",
   "metadata": {},
   "outputs": [],
   "source": [
    "# b. If yes, drop those as they won’t help in the analysis"
   ]
  },
  {
   "cell_type": "code",
   "execution_count": 88,
   "id": "d5085b59",
   "metadata": {},
   "outputs": [],
   "source": [
    "df4=df[(df['Content Rating']=='Adults only 18+')|(df['Content Rating']=='Unrated')]\n",
    "df.drop(df4.index,inplace=True)"
   ]
  },
  {
   "cell_type": "code",
   "execution_count": 89,
   "id": "8d604c5e",
   "metadata": {},
   "outputs": [
    {
     "data": {
      "text/plain": [
       "Everyone        6943\n",
       "Teen             933\n",
       "Mature 17+       417\n",
       "Everyone 10+     337\n",
       "Name: Content Rating, dtype: int64"
      ]
     },
     "execution_count": 89,
     "metadata": {},
     "output_type": "execute_result"
    }
   ],
   "source": [
    "df['Content Rating'].value_counts()"
   ]
  },
  {
   "cell_type": "code",
   "execution_count": 90,
   "id": "857138b8",
   "metadata": {},
   "outputs": [],
   "source": [
    "#7. Effect of size on rating\n",
    "   #a. Make a joinplot to understand the effect of size on rating"
   ]
  },
  {
   "cell_type": "code",
   "execution_count": 92,
   "id": "a3cf2ceb",
   "metadata": {},
   "outputs": [
    {
     "data": {
      "image/png": "[encoded data removed]",
      "text/plain": [
       "<Figure size 432x432 with 3 Axes>"
      ]
     },
     "metadata": {
      "needs_background": "light"
     },
     "output_type": "display_data"
    }
   ],
   "source": [
    "sns.jointplot(x=df['Rating'],y=df['Size'],data=df,kind='scatter')\n",
    "plt.show()"
   ]
  },
  {
   "cell_type": "code",
   "execution_count": null,
   "id": "7d2ba9d5",
   "metadata": {},
   "outputs": [],
   "source": [
    "#b. Do you see any patterns?"
   ]
  },
  {
   "cell_type": "code",
   "execution_count": null,
   "id": "15b3c1b1",
   "metadata": {},
   "outputs": [],
   "source": [
    "#--->We observed that the maximum data point gather in between Rating 4.0-4.5 and size 0-40000."
   ]
  },
  {
   "cell_type": "code",
   "execution_count": null,
   "id": "4b431ce7",
   "metadata": {},
   "outputs": [],
   "source": [
    "#c. How do you explain the pattern?"
   ]
  },
  {
   "cell_type": "code",
   "execution_count": null,
   "id": "0e6ce449",
   "metadata": {},
   "outputs": [],
   "source": [
    "#---->Generally on increasing Rating, Size of App also increases. \n",
    "# But this is not always true ie. for higher Rating, their is constant Size.\n",
    "# Thus we can conclude that their is positive correlation between Size and Rating.\n",
    "# the application size which is in between 0-40000(40 mb) get good rating on play store.\n"
   ]
  },
  {
   "cell_type": "code",
   "execution_count": null,
   "id": "bc6ca7a7",
   "metadata": {},
   "outputs": [],
   "source": [
    "#8. Effect of price on rating\n",
    "  \n",
    "    # a. Make a jointplot (with regression line)"
   ]
  },
  {
   "cell_type": "code",
   "execution_count": 93,
   "id": "265130a3",
   "metadata": {},
   "outputs": [
    {
     "data": {
      "image/png": "[encoded data removed]",
      "text/plain": [
       "<Figure size 432x432 with 3 Axes>"
      ]
     },
     "metadata": {
      "needs_background": "light"
     },
     "output_type": "display_data"
    }
   ],
   "source": [
    "sns.jointplot(x='Price', y='Rating', data=df, kind='reg')\n",
    "plt.show()"
   ]
  },
  {
   "cell_type": "code",
   "execution_count": null,
   "id": "ae410933",
   "metadata": {},
   "outputs": [],
   "source": [
    "#b. What pattern do you see?"
   ]
  },
  {
   "cell_type": "code",
   "execution_count": null,
   "id": "980ff8a8",
   "metadata": {},
   "outputs": [],
   "source": [
    "#Generally on increasing the Price, Rating remains almost constant greater than 4."
   ]
  },
  {
   "cell_type": "code",
   "execution_count": null,
   "id": "84807bc8",
   "metadata": {},
   "outputs": [],
   "source": [
    "#c. How do you explain the pattern?"
   ]
  },
  {
   "cell_type": "code",
   "execution_count": null,
   "id": "b182f417",
   "metadata": {},
   "outputs": [],
   "source": [
    "#Since on increasing the Price, Rating remains almost constant greater than 4. \n",
    "# Thus it can be concluded that their is very weak Positive correlation between Rating and Price."
   ]
  },
  {
   "cell_type": "code",
   "execution_count": null,
   "id": "cf7f36c6",
   "metadata": {},
   "outputs": [],
   "source": [
    "# d. Replot the data, this time with only records with price > 0 "
   ]
  },
  {
   "cell_type": "code",
   "execution_count": 94,
   "id": "870b36f7",
   "metadata": {},
   "outputs": [
    {
     "data": {
      "image/png": "[encoded data removed]",
      "text/plain": [
       "<Figure size 432x432 with 3 Axes>"
      ]
     },
     "metadata": {
      "needs_background": "light"
     },
     "output_type": "display_data"
    }
   ],
   "source": [
    "pg0 = df[df['Price'] > 0]\n",
    "sns.jointplot(x =\"Price\" , y = \"Rating\" ,data = pg0, kind = \"reg\" )\n",
    "plt.show()"
   ]
  },
  {
   "cell_type": "code",
   "execution_count": null,
   "id": "ab17458e",
   "metadata": {},
   "outputs": [],
   "source": [
    "#e. Does the pattern change?"
   ]
  },
  {
   "cell_type": "code",
   "execution_count": null,
   "id": "0beed402",
   "metadata": {},
   "outputs": [],
   "source": [
    "# Yes, On limiting the record with Price > 0,\n",
    "# the overall pattern changed a slight ie their is very weakly Negative Correlation between Price and Rating."
   ]
  },
  {
   "cell_type": "code",
   "execution_count": 95,
   "id": "dccf3951",
   "metadata": {},
   "outputs": [
    {
     "data": {
      "text/html": [
       "<div>\n",
       "<style scoped>\n",
       "    .dataframe tbody tr th:only-of-type {\n",
       "        vertical-align: middle;\n",
       "    }\n",
       "\n",
       "    .dataframe tbody tr th {\n",
       "        vertical-align: top;\n",
       "    }\n",
       "\n",
       "    .dataframe thead th {\n",
       "        text-align: right;\n",
       "    }\n",
       "</style>\n",
       "<table border=\"1\" class=\"dataframe\">\n",
       "  <thead>\n",
       "    <tr style=\"text-align: right;\">\n",
       "      <th></th>\n",
       "      <th>Rating</th>\n",
       "      <th>Reviews</th>\n",
       "      <th>Size</th>\n",
       "      <th>Installs</th>\n",
       "      <th>Price</th>\n",
       "    </tr>\n",
       "  </thead>\n",
       "  <tbody>\n",
       "    <tr>\n",
       "      <th>Rating</th>\n",
       "      <td>1.000000</td>\n",
       "      <td>0.095986</td>\n",
       "      <td>0.117942</td>\n",
       "      <td>0.063960</td>\n",
       "      <td>-0.025975</td>\n",
       "    </tr>\n",
       "    <tr>\n",
       "      <th>Reviews</th>\n",
       "      <td>0.095986</td>\n",
       "      <td>1.000000</td>\n",
       "      <td>0.163959</td>\n",
       "      <td>0.787628</td>\n",
       "      <td>-0.049764</td>\n",
       "    </tr>\n",
       "    <tr>\n",
       "      <th>Size</th>\n",
       "      <td>0.117942</td>\n",
       "      <td>0.163959</td>\n",
       "      <td>1.000000</td>\n",
       "      <td>0.119255</td>\n",
       "      <td>0.024912</td>\n",
       "    </tr>\n",
       "    <tr>\n",
       "      <th>Installs</th>\n",
       "      <td>0.063960</td>\n",
       "      <td>0.787628</td>\n",
       "      <td>0.119255</td>\n",
       "      <td>1.000000</td>\n",
       "      <td>-0.057710</td>\n",
       "    </tr>\n",
       "    <tr>\n",
       "      <th>Price</th>\n",
       "      <td>-0.025975</td>\n",
       "      <td>-0.049764</td>\n",
       "      <td>0.024912</td>\n",
       "      <td>-0.057710</td>\n",
       "      <td>1.000000</td>\n",
       "    </tr>\n",
       "  </tbody>\n",
       "</table>\n",
       "</div>"
      ],
      "text/plain": [
       "            Rating   Reviews      Size  Installs     Price\n",
       "Rating    1.000000  0.095986  0.117942  0.063960 -0.025975\n",
       "Reviews   0.095986  1.000000  0.163959  0.787628 -0.049764\n",
       "Size      0.117942  0.163959  1.000000  0.119255  0.024912\n",
       "Installs  0.063960  0.787628  0.119255  1.000000 -0.057710\n",
       "Price    -0.025975 -0.049764  0.024912 -0.057710  1.000000"
      ]
     },
     "execution_count": 95,
     "metadata": {},
     "output_type": "execute_result"
    }
   ],
   "source": [
    "pg0.corr()"
   ]
  },
  {
   "cell_type": "code",
   "execution_count": null,
   "id": "52cd0a88",
   "metadata": {},
   "outputs": [],
   "source": [
    "#f. What is your overall inference on the effect of price on the rating"
   ]
  },
  {
   "cell_type": "code",
   "execution_count": null,
   "id": "46db6fe9",
   "metadata": {},
   "outputs": [],
   "source": [
    "#Generally increasing the Prices, doesn't have signifcant effect on Higher Rating.\n",
    "# For Higher Price, Rating is High and almost constant ie greater than 4"
   ]
  },
  {
   "cell_type": "code",
   "execution_count": null,
   "id": "d9b29b4c",
   "metadata": {},
   "outputs": [],
   "source": [
    "#9. Look at all the numeric interactions together – \n",
    "  \n",
    "    # a. Make a pairplort with the colulmns - 'Reviews', 'Size', 'Rating', 'Price'"
   ]
  },
  {
   "cell_type": "code",
   "execution_count": 97,
   "id": "5e90e5da",
   "metadata": {},
   "outputs": [
    {
     "data": {
      "image/png": "[encoded data removed]",
      "text/plain": [
       "<Figure size 720x720 with 20 Axes>"
      ]
     },
     "metadata": {
      "needs_background": "light"
     },
     "output_type": "display_data"
    }
   ],
   "source": [
    "sns.pairplot(df, vars=['Reviews', 'Size', 'Rating', 'Price'])\n",
    "plt.show()"
   ]
  },
  {
   "cell_type": "code",
   "execution_count": null,
   "id": "0ef538f1",
   "metadata": {},
   "outputs": [],
   "source": [
    "#10. Rating vs. content rating\n",
    "   \n",
    "    # a. Make a bar plot displaying the rating for each content rating"
   ]
  },
  {
   "cell_type": "code",
   "execution_count": 125,
   "id": "a2b24240",
   "metadata": {},
   "outputs": [
    {
     "data": {
      "image/png": "[encoded data removed]",
      "text/plain": [
       "<Figure size 576x432 with 1 Axes>"
      ]
     },
     "metadata": {
      "needs_background": "light"
     },
     "output_type": "display_data"
    }
   ],
   "source": [
    "plt.figure(figsize = (8,6))\n",
    "\n",
    "sns.barplot(x = \"Content Rating\", y =\"Rating\", data = df)\n",
    "\n",
    "plt.show()"
   ]
  },
  {
   "cell_type": "code",
   "execution_count": null,
   "id": "5cf3ed76",
   "metadata": {},
   "outputs": [],
   "source": [
    "#b. Which metric would you use? Mean? Median? Some other quantile?"
   ]
  },
  {
   "cell_type": "code",
   "execution_count": null,
   "id": "9b056a87",
   "metadata": {},
   "outputs": [],
   "source": [
    "#We must use Median in this case as we are having Outliers in Rating. \n",
    "# Because in case of Outliers , median is the best measure of central tendency."
   ]
  },
  {
   "cell_type": "code",
   "execution_count": null,
   "id": "343fb2cd",
   "metadata": {},
   "outputs": [],
   "source": [
    "#c. Choose the right metric and plot"
   ]
  },
  {
   "cell_type": "code",
   "execution_count": 127,
   "id": "ba205a7f",
   "metadata": {},
   "outputs": [
    {
     "data": {
      "image/png": "[encoded data removed]",
      "text/plain": [
       "<Figure size 432x288 with 1 Axes>"
      ]
     },
     "metadata": {
      "needs_background": "light"
     },
     "output_type": "display_data"
    }
   ],
   "source": [
    "df.groupby(['Content Rating'])['Rating'].median().plot.bar(color=\"blue\")\n",
    "plt.show()"
   ]
  },
  {
   "cell_type": "code",
   "execution_count": null,
   "id": "5b187a8a",
   "metadata": {},
   "outputs": [],
   "source": [
    "#11. Content rating vs. size vs. rating – 3 variables at a time\n",
    " \n",
    "    # a. Create 5 buckets (20% records in each) based on Size"
   ]
  },
  {
   "cell_type": "code",
   "execution_count": 128,
   "id": "62f81493",
   "metadata": {},
   "outputs": [
    {
     "data": {
      "text/html": [
       "<div>\n",
       "<style scoped>\n",
       "    .dataframe tbody tr th:only-of-type {\n",
       "        vertical-align: middle;\n",
       "    }\n",
       "\n",
       "    .dataframe tbody tr th {\n",
       "        vertical-align: top;\n",
       "    }\n",
       "\n",
       "    .dataframe thead th {\n",
       "        text-align: right;\n",
       "    }\n",
       "</style>\n",
       "<table border=\"1\" class=\"dataframe\">\n",
       "  <thead>\n",
       "    <tr style=\"text-align: right;\">\n",
       "      <th>Content Rating</th>\n",
       "      <th>Everyone</th>\n",
       "      <th>Everyone 10+</th>\n",
       "      <th>Mature 17+</th>\n",
       "      <th>Teen</th>\n",
       "    </tr>\n",
       "    <tr>\n",
       "      <th>Bucket Size</th>\n",
       "      <th></th>\n",
       "      <th></th>\n",
       "      <th></th>\n",
       "      <th></th>\n",
       "    </tr>\n",
       "  </thead>\n",
       "  <tbody>\n",
       "    <tr>\n",
       "      <th>0-20k</th>\n",
       "      <td>4.146001</td>\n",
       "      <td>4.247561</td>\n",
       "      <td>4.010582</td>\n",
       "      <td>4.182275</td>\n",
       "    </tr>\n",
       "    <tr>\n",
       "      <th>20k-40k</th>\n",
       "      <td>4.203324</td>\n",
       "      <td>4.166667</td>\n",
       "      <td>4.156291</td>\n",
       "      <td>4.173163</td>\n",
       "    </tr>\n",
       "    <tr>\n",
       "      <th>40k-60k</th>\n",
       "      <td>4.171457</td>\n",
       "      <td>4.265217</td>\n",
       "      <td>4.190476</td>\n",
       "      <td>4.242982</td>\n",
       "    </tr>\n",
       "    <tr>\n",
       "      <th>60k-80k</th>\n",
       "      <td>4.244221</td>\n",
       "      <td>4.280769</td>\n",
       "      <td>4.200000</td>\n",
       "      <td>4.273016</td>\n",
       "    </tr>\n",
       "    <tr>\n",
       "      <th>80k-100k</th>\n",
       "      <td>4.260127</td>\n",
       "      <td>4.304762</td>\n",
       "      <td>4.252632</td>\n",
       "      <td>4.269231</td>\n",
       "    </tr>\n",
       "  </tbody>\n",
       "</table>\n",
       "</div>"
      ],
      "text/plain": [
       "Content Rating  Everyone  Everyone 10+  Mature 17+      Teen\n",
       "Bucket Size                                                 \n",
       "0-20k           4.146001      4.247561    4.010582  4.182275\n",
       "20k-40k         4.203324      4.166667    4.156291  4.173163\n",
       "40k-60k         4.171457      4.265217    4.190476  4.242982\n",
       "60k-80k         4.244221      4.280769    4.200000  4.273016\n",
       "80k-100k        4.260127      4.304762    4.252632  4.269231"
      ]
     },
     "execution_count": 128,
     "metadata": {},
     "output_type": "execute_result"
    }
   ],
   "source": [
    "bins=[0, 20000, 40000, 60000, 80000, 100000]\n",
    "df['Bucket Size'] = pd.cut(df['Size'], bins, labels=['0-20k','20k-40k','40k-60k','60k-80k','80k-100k'])\n",
    "pd.pivot_table(df, values='Rating', index='Bucket Size', columns='Content Rating')"
   ]
  },
  {
   "cell_type": "code",
   "execution_count": null,
   "id": "3724ecdf",
   "metadata": {},
   "outputs": [],
   "source": [
    "#b. By Content Rating vs. Size buckets, get the rating (20th percentile) for each \n",
    "# combination"
   ]
  },
  {
   "cell_type": "code",
   "execution_count": 129,
   "id": "99a6b580",
   "metadata": {},
   "outputs": [
    {
     "data": {
      "text/html": [
       "<div>\n",
       "<style scoped>\n",
       "    .dataframe tbody tr th:only-of-type {\n",
       "        vertical-align: middle;\n",
       "    }\n",
       "\n",
       "    .dataframe tbody tr th {\n",
       "        vertical-align: top;\n",
       "    }\n",
       "\n",
       "    .dataframe thead th {\n",
       "        text-align: right;\n",
       "    }\n",
       "</style>\n",
       "<table border=\"1\" class=\"dataframe\">\n",
       "  <thead>\n",
       "    <tr style=\"text-align: right;\">\n",
       "      <th>Content Rating</th>\n",
       "      <th>Everyone</th>\n",
       "      <th>Everyone 10+</th>\n",
       "      <th>Mature 17+</th>\n",
       "      <th>Teen</th>\n",
       "    </tr>\n",
       "    <tr>\n",
       "      <th>Bucket Size</th>\n",
       "      <th></th>\n",
       "      <th></th>\n",
       "      <th></th>\n",
       "      <th></th>\n",
       "    </tr>\n",
       "  </thead>\n",
       "  <tbody>\n",
       "    <tr>\n",
       "      <th>0-20k</th>\n",
       "      <td>3.80</td>\n",
       "      <td>4.02</td>\n",
       "      <td>3.5</td>\n",
       "      <td>3.9</td>\n",
       "    </tr>\n",
       "    <tr>\n",
       "      <th>20k-40k</th>\n",
       "      <td>4.00</td>\n",
       "      <td>4.00</td>\n",
       "      <td>4.0</td>\n",
       "      <td>3.9</td>\n",
       "    </tr>\n",
       "    <tr>\n",
       "      <th>40k-60k</th>\n",
       "      <td>3.90</td>\n",
       "      <td>4.10</td>\n",
       "      <td>4.1</td>\n",
       "      <td>4.0</td>\n",
       "    </tr>\n",
       "    <tr>\n",
       "      <th>60k-80k</th>\n",
       "      <td>4.00</td>\n",
       "      <td>4.00</td>\n",
       "      <td>4.0</td>\n",
       "      <td>4.0</td>\n",
       "    </tr>\n",
       "    <tr>\n",
       "      <th>80k-100k</th>\n",
       "      <td>4.04</td>\n",
       "      <td>4.10</td>\n",
       "      <td>4.0</td>\n",
       "      <td>4.0</td>\n",
       "    </tr>\n",
       "  </tbody>\n",
       "</table>\n",
       "</div>"
      ],
      "text/plain": [
       "Content Rating  Everyone  Everyone 10+  Mature 17+  Teen\n",
       "Bucket Size                                             \n",
       "0-20k               3.80          4.02         3.5   3.9\n",
       "20k-40k             4.00          4.00         4.0   3.9\n",
       "40k-60k             3.90          4.10         4.1   4.0\n",
       "60k-80k             4.00          4.00         4.0   4.0\n",
       "80k-100k            4.04          4.10         4.0   4.0"
      ]
     },
     "execution_count": 129,
     "metadata": {},
     "output_type": "execute_result"
    }
   ],
   "source": [
    "temp=pd.pivot_table(df, values='Rating', index='Bucket Size', columns='Content Rating', aggfunc=lambda x:np.quantile(x,0.2))\n",
    "temp"
   ]
  },
  {
   "cell_type": "code",
   "execution_count": null,
   "id": "4f498875",
   "metadata": {},
   "outputs": [],
   "source": [
    "#c. Make a heatmap of this\n",
    "  \n",
    "    # i. Annotated"
   ]
  },
  {
   "cell_type": "code",
   "execution_count": 131,
   "id": "7527f584",
   "metadata": {},
   "outputs": [
    {
     "data": {
      "image/png": "[encoded data removed]",
      "text/plain": [
       "<Figure size 432x288 with 2 Axes>"
      ]
     },
     "metadata": {
      "needs_background": "light"
     },
     "output_type": "display_data"
    }
   ],
   "source": [
    "sns.heatmap(temp, annot = True)\n",
    "plt.show()\n"
   ]
  },
  {
   "cell_type": "code",
   "execution_count": null,
   "id": "fd4b22c5",
   "metadata": {},
   "outputs": [],
   "source": [
    "#ii. Greens color map"
   ]
  },
  {
   "cell_type": "code",
   "execution_count": 132,
   "id": "0b3bfc77",
   "metadata": {},
   "outputs": [
    {
     "data": {
      "image/png": "[encoded data removed]",
      "text/plain": [
       "<Figure size 432x288 with 2 Axes>"
      ]
     },
     "metadata": {
      "needs_background": "light"
     },
     "output_type": "display_data"
    }
   ],
   "source": [
    "sns.heatmap(temp, annot=True, cmap='Greens')\n",
    "plt.show()\n"
   ]
  },
  {
   "cell_type": "code",
   "execution_count": null,
   "id": "d374a903",
   "metadata": {},
   "outputs": [],
   "source": [
    "#d. What’s your inference? Are lighter apps preferred in all categories? Heavier? Some?"
   ]
  },
  {
   "cell_type": "code",
   "execution_count": null,
   "id": "f855a69e",
   "metadata": {},
   "outputs": [],
   "source": [
    "#Based on analysis, its not true that lighter apps are preferred in all categories.\n",
    "# Because apps with size 40k-60k and 80k-100k have got the highest rating in all cateegories. \n",
    "# So, in general we can conclude that heavier apps are preferred in all categories."
   ]
  },
  {
   "cell_type": "code",
   "execution_count": null,
   "id": "5f8a5fa6",
   "metadata": {},
   "outputs": [],
   "source": []
  },
  {
   "cell_type": "code",
   "execution_count": null,
   "id": "d055bfa2",
   "metadata": {},
   "outputs": [],
   "source": []
  }
 ],
 "metadata": {
  "kernelspec": {
   "display_name": "Python 3",
   "language": "python",
   "name": "python3"
  },
  "language_info": {
   "codemirror_mode": {
    "name": "ipython",
    "version": 3
   },
   "file_extension": ".py",
   "mimetype": "text/x-python",
   "name": "python",
   "nbconvert_exporter": "python",
   "pygments_lexer": "ipython3",
   "version": "3.8.8"
  }
 },
 "nbformat": 4,
 "nbformat_minor": 5
}
